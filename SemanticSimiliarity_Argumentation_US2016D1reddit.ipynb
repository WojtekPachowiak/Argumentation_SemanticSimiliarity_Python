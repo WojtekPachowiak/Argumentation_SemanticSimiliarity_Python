{
  "nbformat": 4,
  "nbformat_minor": 0,
  "metadata": {
    "colab": {
      "name": "SemanticSimiliarity_Argumentation_US2016D1reddit.ipynb",
      "provenance": [],
      "collapsed_sections": []
    },
    "kernelspec": {
      "name": "python3",
      "display_name": "Python 3"
    }
  },
  "cells": [
    {
      "cell_type": "markdown",
      "metadata": {
        "id": "5UcusvfwBosR"
      },
      "source": [
        "# Installs and imports"
      ]
    },
    {
      "cell_type": "code",
      "metadata": {
        "id": "6JQh4XC4BqeX"
      },
      "source": [
        "!pip install tensorflow_text\n",
        "!pip install simpleneighbors"
      ],
      "execution_count": null,
      "outputs": []
    },
    {
      "cell_type": "code",
      "metadata": {
        "id": "cKNUAWXe8Fpg"
      },
      "source": [
        "import glob\n",
        "import json\n",
        "import itertools\n",
        "import random\n",
        "import numpy as np\n",
        "from sklearn.utils import shuffle\n",
        "import matplotlib.pyplot as plt"
      ],
      "execution_count": null,
      "outputs": []
    },
    {
      "cell_type": "code",
      "metadata": {
        "id": "K_Twxodbc4jY"
      },
      "source": [
        "import os\n",
        "import pandas as pd\n",
        "import sklearn.metrics.pairwise"
      ],
      "execution_count": null,
      "outputs": []
    },
    {
      "cell_type": "code",
      "metadata": {
        "id": "Rej6VWykdBzu"
      },
      "source": [
        "import tensorflow as tf\n",
        "from tensorflow_text import SentencepieceTokenizer\n",
        "import tensorflow.compat.v2 as tf\n",
        "import tensorflow_hub as hub"
      ],
      "execution_count": null,
      "outputs": []
    },
    {
      "cell_type": "code",
      "metadata": {
        "id": "dqD6Kl8kTNtE"
      },
      "source": [
        "random.seed(420)\n",
        "np.random.seed(420)\n",
        "tf.random.set_seed(420)"
      ],
      "execution_count": null,
      "outputs": []
    },
    {
      "cell_type": "markdown",
      "metadata": {
        "id": "KP5I-WOiBwTl"
      },
      "source": [
        "# Loading the corpora"
      ]
    },
    {
      "cell_type": "code",
      "metadata": {
        "id": "1xcHMnNY8Pz-"
      },
      "source": [
        "maps = glob.glob(\"<YOUR_PATH>/US2016D1reddit/*.json\")"
      ],
      "execution_count": null,
      "outputs": []
    },
    {
      "cell_type": "code",
      "metadata": {
        "colab": {
          "base_uri": "https://localhost:8080/"
        },
        "id": "WoRmfVGL8rVw",
        "outputId": "65f8d9b8-cf32-4541-828c-7d6f49518d57"
      },
      "source": [
        "len(maps)"
      ],
      "execution_count": null,
      "outputs": [
        {
          "output_type": "execute_result",
          "data": {
            "text/plain": [
              "79"
            ]
          },
          "metadata": {
            "tags": []
          },
          "execution_count": 99
        }
      ]
    },
    {
      "cell_type": "markdown",
      "metadata": {
        "id": "G2OXL734B3ZN"
      },
      "source": [
        "# Functions for extracting argument pairs, sentence embeddings and calculating similarity"
      ]
    },
    {
      "cell_type": "code",
      "metadata": {
        "id": "T5lA2tz09AZe"
      },
      "source": [
        "def aduPairs(edgePairs, nodesById):\n",
        "    aduPair = []\n",
        "    for pair in edgePairs.values():\n",
        "        for p in pair['premises']:\n",
        "          aduPair.append([nodesById[pair['conclusion']['toID']]['text'], nodesById[p['fromID']]['text']])\n",
        "    return(aduPair)"
      ],
      "execution_count": null,
      "outputs": []
    },
    {
      "cell_type": "code",
      "metadata": {
        "id": "0w84VHKDGj06"
      },
      "source": [
        "def conclusionPremiseDict(premises, conclusions):\n",
        "    pairs = {}\n",
        "    for i, x in enumerate(conclusions):\n",
        "        pairs[i] = {'conclusion':x, 'premises':[]}\n",
        "        id_to = x['fromID']\n",
        "        for p in premises:\n",
        "            if p['toID'] == id_to:\n",
        "                pairs[i]['premises'].append(p)\n",
        "                \n",
        "    return pairs"
      ],
      "execution_count": null,
      "outputs": []
    },
    {
      "cell_type": "code",
      "metadata": {
        "id": "ltaul-3bGmDm"
      },
      "source": [
        "def pairs(map):\n",
        "    with open(map) as f:\n",
        "        data = json.loads(f.read())\n",
        "    #Creating nodesById dictionary which has nodeID as key and whole node as value for more efficient data extraction.\n",
        "    nodesById = {}\n",
        "    for _, node in enumerate(data['nodes']):\n",
        "        nodesById[node['nodeID']] = node\n",
        "        \n",
        "    #Premises are nodes that have ingoing edges that are type 'RA' and outgoing edges that are type 'I'.\n",
        "    premises = [x for x in data['edges'] if nodesById[x['fromID']]['type'] == 'I' and nodesById[x['toID']]['type'] == 'RA' ]\n",
        "\n",
        "    #Conclusions are nodes that have ingoing edges that are type 'I' and outgoing edges that are type 'RA'.\n",
        "    conclusions = [x for x in data['edges'] if nodesById[x['toID']]['type'] == 'I' and nodesById[x['fromID']]['type'] == 'RA' ]\n",
        "    edgePairs = conclusionPremiseDict(premises, conclusions)\n",
        "    adus = aduPairs(edgePairs, nodesById)\n",
        "    return adus, conclusions, premises, nodesById"
      ],
      "execution_count": null,
      "outputs": []
    },
    {
      "cell_type": "code",
      "metadata": {
        "id": "Z-HQLjtwJCOU"
      },
      "source": [
        "def comb(conclusions, premises, l, nodesById):\n",
        "    combList = [(x,y) for x in conclusions for y in premises] \n",
        "    smallCombList = []\n",
        "    for _ in range(l):\n",
        "        p = random.choice(combList)\n",
        "        smallCombList.append([nodesById[p[0]['toID']]['text'], nodesById[p[1]['fromID']]['text']])\n",
        "    return smallCombList"
      ],
      "execution_count": null,
      "outputs": []
    },
    {
      "cell_type": "code",
      "metadata": {
        "id": "xoKmwYLHBsac"
      },
      "source": [
        "def get_similarity(embeddings_1, embeddings_2):\n",
        "  \"\"\"Calculate cosine simiarity between two vectors.\n",
        "     *[check similarity measure based on arccos]\n",
        "     \n",
        "     Args:\n",
        "         - embeddings1, embeddings2 - vectors with sentence|word embeddings\n",
        "         \n",
        "     Returns:\n",
        "         - sim, cosine - similarity measures\n",
        "  \"\"\"\n",
        "  cosine = sklearn.metrics.pairwise.cosine_similarity(embeddings_1, embeddings_2)\n",
        "  sim = 1 - np.arccos(cosine)/np.pi\n",
        "  return sim, cosine"
      ],
      "execution_count": null,
      "outputs": []
    },
    {
      "cell_type": "code",
      "metadata": {
        "id": "mY66WvDXe_Cm"
      },
      "source": [
        "def embed_text(text, model):\n",
        "  \"\"\"Embed text as an embedding via universal sentence encoder model.\n",
        "     Args:\n",
        "         - text - text to encode\n",
        "         - model - universal sentence encoder model \n",
        "\n",
        "    Returns:\n",
        "         - vector embedding of text\n",
        "  \"\"\"\n",
        "  return model(text)"
      ],
      "execution_count": null,
      "outputs": []
    },
    {
      "cell_type": "code",
      "metadata": {
        "id": "LdMaLoyrfEo8"
      },
      "source": [
        "def embed_pair(pair, model):\n",
        "  \"\"\"Embed conclusion and premises from one pair.\n",
        "  \n",
        "  Args:\n",
        "    - pair - dictionary of conclusion and premises\n",
        "    \n",
        "  Returns:\n",
        "    - embed_conclusion - embedding of conclusion\n",
        "    - embed_premises - embedding of premises\n",
        "  \"\"\"\n",
        "  embed_conclusion = embed_text(pair[0], model)\n",
        "  embed_premise = embed_text(pair[1],model)\n",
        "  return embed_conclusion, embed_premise"
      ],
      "execution_count": null,
      "outputs": []
    },
    {
      "cell_type": "code",
      "metadata": {
        "id": "joWaAoE4fKCK"
      },
      "source": [
        "def getsimforpair(prem,conc):\n",
        "  \"\"\"Given premise and conclusion returns similarity measure\n",
        "\n",
        "  Args:\n",
        "      - prem - embeded representation of the premise\n",
        "      - conc - embeded representation of the conclusion\n",
        "  Returns: \n",
        "      - sim_pair - similarity measure\n",
        "  \"\"\"\n",
        "  sim_pair = get_similarity(prem,conc)\n",
        "  return sim_pair"
      ],
      "execution_count": null,
      "outputs": []
    },
    {
      "cell_type": "code",
      "metadata": {
        "id": "KZmGtbkQfQUz"
      },
      "source": [
        "def loopallpairs(pairlist):\n",
        "  \"\"\"Given list of pairs of premises and conclusions returns list of similarity measures for each pair in the corpus\n",
        "\n",
        "  Args:\n",
        "      - pairlist - list of pairs of premises and conclusions (raw text)\n",
        "  Returns: \n",
        "      - simlist - list of similarity measure for each pair (raw text)\n",
        "  \"\"\"\n",
        "  simlist = []\n",
        "  for pair in pairlist:\n",
        "    conc = embed_text(pair[0], model)\n",
        "    prem = embed_text(pair[1], model)\n",
        "    simforpair = getsimforpair(prem,conc)\n",
        "    simlist.append(simforpair)\n",
        "  return simlist"
      ],
      "execution_count": null,
      "outputs": []
    },
    {
      "cell_type": "code",
      "metadata": {
        "id": "ILn_AmAmfPJz"
      },
      "source": [
        "def makesimlist(simlist,label, measure):\n",
        "  \"\"\"\n",
        "    Given list of list of similarity measure for each pairs makes list of similarity measurements plus labels\n",
        "  \n",
        "  Args:\n",
        "    - simlist - list of similarity measure for each pair\n",
        "    - schemelist - list of scheme for each pair\n",
        "    - label (0 false, 1 for true, 2 for no label)\n",
        "    - measure: 0 or 1 (sim or cosine)\n",
        "  \"\"\"\n",
        "  simtable = pd.DataFrame(simlist)\n",
        "  simlistsim = simtable[measure] \n",
        "  simlistsim_flattened = [val for sublist in simlistsim for val in sublist]\n",
        "  simtable = pd.DataFrame(simlistsim_flattened)\n",
        "  simtable[\"label\"] = label\n",
        "  return simtable"
      ],
      "execution_count": null,
      "outputs": []
    },
    {
      "cell_type": "markdown",
      "metadata": {
        "id": "IzTDfnfnmPvv"
      },
      "source": [
        "#Extracting arguments from the corpora"
      ]
    },
    {
      "cell_type": "code",
      "metadata": {
        "id": "z4Owv7FABobY"
      },
      "source": [
        "truePairs = []\n",
        "conclusions = []\n",
        "premises = []\n",
        "nodesById = {}\n",
        "\n",
        "for m in maps:\n",
        "    adus, c, p, n = pairs(m)\n",
        "    truePairs.extend(adus)\n",
        "    conclusions.extend(c)\n",
        "    premises.extend(p)\n",
        "    nodesById = {**nodesById, **n}"
      ],
      "execution_count": null,
      "outputs": []
    },
    {
      "cell_type": "markdown",
      "metadata": {
        "id": "c0L6wyAGCFnM"
      },
      "source": [
        "Creating false pairs"
      ]
    },
    {
      "cell_type": "code",
      "metadata": {
        "id": "Y3usQ1NOIcIn"
      },
      "source": [
        "falsePairs = comb(conclusions, premises, len(truePairs), nodesById)"
      ],
      "execution_count": null,
      "outputs": []
    },
    {
      "cell_type": "markdown",
      "metadata": {
        "id": "As3nisXdCLYQ"
      },
      "source": [
        "# Loading a language module"
      ]
    },
    {
      "cell_type": "code",
      "metadata": {
        "id": "KBFYOntpfEQd"
      },
      "source": [
        "# The 16-language multilingual module\n",
        "module_url = 'https://tfhub.dev/google/universal-sentence-encoder-multilingual-large/3' #@param ['https://tfhub.dev/google/universal-sentence-encoder-multilingual/3', 'https://tfhub.dev/google/universal-sentence-encoder-multilingual-large/3']\n",
        "model = hub.load(module_url)"
      ],
      "execution_count": null,
      "outputs": []
    },
    {
      "cell_type": "markdown",
      "metadata": {
        "id": "0weN3qDOCXXM"
      },
      "source": [
        "# Sentence embeddings and calcualting semantic similarity "
      ]
    },
    {
      "cell_type": "code",
      "metadata": {
        "id": "unw2gcfUfSRD"
      },
      "source": [
        "all_true_pairssimlist = loopallpairs(truePairs)"
      ],
      "execution_count": null,
      "outputs": []
    },
    {
      "cell_type": "code",
      "metadata": {
        "id": "0k5KY-mxJ_xt",
        "colab": {
          "base_uri": "https://localhost:8080/"
        },
        "outputId": "52805bdf-1cad-4fa7-8fe2-7350376897f2"
      },
      "source": [
        "all_false_pairssimlist = loopallpairs(falsePairs)"
      ],
      "execution_count": null,
      "outputs": [
        {
          "output_type": "stream",
          "text": [
            "/usr/local/lib/python3.6/dist-packages/ipykernel_launcher.py:12: RuntimeWarning: invalid value encountered in arccos\n",
            "  if sys.path[0] == '':\n"
          ],
          "name": "stderr"
        }
      ]
    },
    {
      "cell_type": "code",
      "metadata": {
        "id": "e_Aovy7fwDpc"
      },
      "source": [
        "all_true_pairssimlistSIMtable = makesimlist(all_true_pairssimlist,\"1\",0)\n",
        " \n",
        "all_true_pairssimlistCOStable = makesimlist(all_true_pairssimlist,\"1\",1)\n",
        "all_false_pairssimlistSIMtable = makesimlist(all_false_pairssimlist,\"0\",0)\n",
        " \n",
        "all_false_pairssimlistCOStable = makesimlist(all_false_pairssimlist,\"0\",1)"
      ],
      "execution_count": null,
      "outputs": []
    },
    {
      "cell_type": "code",
      "metadata": {
        "id": "OGPWBuDNJjId"
      },
      "source": [
        "all_pairssimlistSIMtable = pd.concat([all_true_pairssimlistSIMtable,all_false_pairssimlistSIMtable])\n",
        "\n",
        "all_pairssimlistCOStable = pd.concat([all_true_pairssimlistCOStable,all_false_pairssimlistCOStable])"
      ],
      "execution_count": null,
      "outputs": []
    },
    {
      "cell_type": "code",
      "metadata": {
        "id": "RshG5k7Nwn8p"
      },
      "source": [
        "all_pairssimlistSIMtable = shuffle(all_pairssimlistSIMtable)\n",
        "\n",
        "all_pairssimlistCOStable = shuffle(all_pairssimlistCOStable)"
      ],
      "execution_count": null,
      "outputs": []
    },
    {
      "cell_type": "code",
      "metadata": {
        "colab": {
          "base_uri": "https://localhost:8080/",
          "height": 402
        },
        "id": "BH68MFZFwwRy",
        "outputId": "2ea3e89c-a674-4322-d415-66d2d471789a"
      },
      "source": [
        "all_pairssimlistCOStable"
      ],
      "execution_count": null,
      "outputs": [
        {
          "output_type": "execute_result",
          "data": {
            "text/html": [
              "<div>\n",
              "<style scoped>\n",
              "    .dataframe tbody tr th:only-of-type {\n",
              "        vertical-align: middle;\n",
              "    }\n",
              "\n",
              "    .dataframe tbody tr th {\n",
              "        vertical-align: top;\n",
              "    }\n",
              "\n",
              "    .dataframe thead th {\n",
              "        text-align: right;\n",
              "    }\n",
              "</style>\n",
              "<table border=\"1\" class=\"dataframe\">\n",
              "  <thead>\n",
              "    <tr style=\"text-align: right;\">\n",
              "      <th></th>\n",
              "      <th>0</th>\n",
              "      <th>label</th>\n",
              "    </tr>\n",
              "  </thead>\n",
              "  <tbody>\n",
              "    <tr>\n",
              "      <th>444</th>\n",
              "      <td>0.082801</td>\n",
              "      <td>0</td>\n",
              "    </tr>\n",
              "    <tr>\n",
              "      <th>139</th>\n",
              "      <td>0.099181</td>\n",
              "      <td>1</td>\n",
              "    </tr>\n",
              "    <tr>\n",
              "      <th>330</th>\n",
              "      <td>0.152929</td>\n",
              "      <td>0</td>\n",
              "    </tr>\n",
              "    <tr>\n",
              "      <th>496</th>\n",
              "      <td>0.471417</td>\n",
              "      <td>1</td>\n",
              "    </tr>\n",
              "    <tr>\n",
              "      <th>100</th>\n",
              "      <td>0.107943</td>\n",
              "      <td>0</td>\n",
              "    </tr>\n",
              "    <tr>\n",
              "      <th>...</th>\n",
              "      <td>...</td>\n",
              "      <td>...</td>\n",
              "    </tr>\n",
              "    <tr>\n",
              "      <th>372</th>\n",
              "      <td>0.110555</td>\n",
              "      <td>0</td>\n",
              "    </tr>\n",
              "    <tr>\n",
              "      <th>77</th>\n",
              "      <td>0.124140</td>\n",
              "      <td>0</td>\n",
              "    </tr>\n",
              "    <tr>\n",
              "      <th>318</th>\n",
              "      <td>0.317972</td>\n",
              "      <td>1</td>\n",
              "    </tr>\n",
              "    <tr>\n",
              "      <th>141</th>\n",
              "      <td>0.211144</td>\n",
              "      <td>0</td>\n",
              "    </tr>\n",
              "    <tr>\n",
              "      <th>408</th>\n",
              "      <td>0.002339</td>\n",
              "      <td>0</td>\n",
              "    </tr>\n",
              "  </tbody>\n",
              "</table>\n",
              "<p>1134 rows × 2 columns</p>\n",
              "</div>"
            ],
            "text/plain": [
              "            0 label\n",
              "444  0.082801     0\n",
              "139  0.099181     1\n",
              "330  0.152929     0\n",
              "496  0.471417     1\n",
              "100  0.107943     0\n",
              "..        ...   ...\n",
              "372  0.110555     0\n",
              "77   0.124140     0\n",
              "318  0.317972     1\n",
              "141  0.211144     0\n",
              "408  0.002339     0\n",
              "\n",
              "[1134 rows x 2 columns]"
            ]
          },
          "metadata": {
            "tags": []
          },
          "execution_count": 118
        }
      ]
    },
    {
      "cell_type": "markdown",
      "metadata": {
        "id": "i0tAkYJFYaF8"
      },
      "source": [
        "# Desriptive statistics"
      ]
    },
    {
      "cell_type": "code",
      "metadata": {
        "colab": {
          "base_uri": "https://localhost:8080/",
          "height": 284
        },
        "id": "Hj-57Y2mFjd3",
        "outputId": "90db8b44-3670-47df-face-3545f6417d5d"
      },
      "source": [
        "all_true_pairssimlistSIMtable.describe().round(3)"
      ],
      "execution_count": null,
      "outputs": [
        {
          "output_type": "execute_result",
          "data": {
            "text/html": [
              "<div>\n",
              "<style scoped>\n",
              "    .dataframe tbody tr th:only-of-type {\n",
              "        vertical-align: middle;\n",
              "    }\n",
              "\n",
              "    .dataframe tbody tr th {\n",
              "        vertical-align: top;\n",
              "    }\n",
              "\n",
              "    .dataframe thead th {\n",
              "        text-align: right;\n",
              "    }\n",
              "</style>\n",
              "<table border=\"1\" class=\"dataframe\">\n",
              "  <thead>\n",
              "    <tr style=\"text-align: right;\">\n",
              "      <th></th>\n",
              "      <th>0</th>\n",
              "    </tr>\n",
              "  </thead>\n",
              "  <tbody>\n",
              "    <tr>\n",
              "      <th>count</th>\n",
              "      <td>567.000</td>\n",
              "    </tr>\n",
              "    <tr>\n",
              "      <th>mean</th>\n",
              "      <td>0.633</td>\n",
              "    </tr>\n",
              "    <tr>\n",
              "      <th>std</th>\n",
              "      <td>0.074</td>\n",
              "    </tr>\n",
              "    <tr>\n",
              "      <th>min</th>\n",
              "      <td>0.486</td>\n",
              "    </tr>\n",
              "    <tr>\n",
              "      <th>25%</th>\n",
              "      <td>0.570</td>\n",
              "    </tr>\n",
              "    <tr>\n",
              "      <th>50%</th>\n",
              "      <td>0.639</td>\n",
              "    </tr>\n",
              "    <tr>\n",
              "      <th>75%</th>\n",
              "      <td>0.682</td>\n",
              "    </tr>\n",
              "    <tr>\n",
              "      <th>max</th>\n",
              "      <td>0.875</td>\n",
              "    </tr>\n",
              "  </tbody>\n",
              "</table>\n",
              "</div>"
            ],
            "text/plain": [
              "             0\n",
              "count  567.000\n",
              "mean     0.633\n",
              "std      0.074\n",
              "min      0.486\n",
              "25%      0.570\n",
              "50%      0.639\n",
              "75%      0.682\n",
              "max      0.875"
            ]
          },
          "metadata": {
            "tags": []
          },
          "execution_count": 119
        }
      ]
    },
    {
      "cell_type": "code",
      "metadata": {
        "colab": {
          "base_uri": "https://localhost:8080/",
          "height": 284
        },
        "id": "ZO-TOfE8XF8d",
        "outputId": "a480928f-5ffd-430b-fc88-5ec96a202473"
      },
      "source": [
        "all_true_pairssimlistCOStable.describe().round(3)"
      ],
      "execution_count": null,
      "outputs": [
        {
          "output_type": "execute_result",
          "data": {
            "text/html": [
              "<div>\n",
              "<style scoped>\n",
              "    .dataframe tbody tr th:only-of-type {\n",
              "        vertical-align: middle;\n",
              "    }\n",
              "\n",
              "    .dataframe tbody tr th {\n",
              "        vertical-align: top;\n",
              "    }\n",
              "\n",
              "    .dataframe thead th {\n",
              "        text-align: right;\n",
              "    }\n",
              "</style>\n",
              "<table border=\"1\" class=\"dataframe\">\n",
              "  <thead>\n",
              "    <tr style=\"text-align: right;\">\n",
              "      <th></th>\n",
              "      <th>0</th>\n",
              "    </tr>\n",
              "  </thead>\n",
              "  <tbody>\n",
              "    <tr>\n",
              "      <th>count</th>\n",
              "      <td>567.000</td>\n",
              "    </tr>\n",
              "    <tr>\n",
              "      <th>mean</th>\n",
              "      <td>0.394</td>\n",
              "    </tr>\n",
              "    <tr>\n",
              "      <th>std</th>\n",
              "      <td>0.207</td>\n",
              "    </tr>\n",
              "    <tr>\n",
              "      <th>min</th>\n",
              "      <td>-0.043</td>\n",
              "    </tr>\n",
              "    <tr>\n",
              "      <th>25%</th>\n",
              "      <td>0.217</td>\n",
              "    </tr>\n",
              "    <tr>\n",
              "      <th>50%</th>\n",
              "      <td>0.422</td>\n",
              "    </tr>\n",
              "    <tr>\n",
              "      <th>75%</th>\n",
              "      <td>0.541</td>\n",
              "    </tr>\n",
              "    <tr>\n",
              "      <th>max</th>\n",
              "      <td>0.924</td>\n",
              "    </tr>\n",
              "  </tbody>\n",
              "</table>\n",
              "</div>"
            ],
            "text/plain": [
              "             0\n",
              "count  567.000\n",
              "mean     0.394\n",
              "std      0.207\n",
              "min     -0.043\n",
              "25%      0.217\n",
              "50%      0.422\n",
              "75%      0.541\n",
              "max      0.924"
            ]
          },
          "metadata": {
            "tags": []
          },
          "execution_count": 120
        }
      ]
    },
    {
      "cell_type": "code",
      "metadata": {
        "colab": {
          "base_uri": "https://localhost:8080/",
          "height": 284
        },
        "id": "x-qHMQXRYKEt",
        "outputId": "38e379c5-2f67-4433-b075-887d6260d26e"
      },
      "source": [
        "all_false_pairssimlistSIMtable.describe().round(3)"
      ],
      "execution_count": null,
      "outputs": [
        {
          "output_type": "execute_result",
          "data": {
            "text/html": [
              "<div>\n",
              "<style scoped>\n",
              "    .dataframe tbody tr th:only-of-type {\n",
              "        vertical-align: middle;\n",
              "    }\n",
              "\n",
              "    .dataframe tbody tr th {\n",
              "        vertical-align: top;\n",
              "    }\n",
              "\n",
              "    .dataframe thead th {\n",
              "        text-align: right;\n",
              "    }\n",
              "</style>\n",
              "<table border=\"1\" class=\"dataframe\">\n",
              "  <thead>\n",
              "    <tr style=\"text-align: right;\">\n",
              "      <th></th>\n",
              "      <th>0</th>\n",
              "    </tr>\n",
              "  </thead>\n",
              "  <tbody>\n",
              "    <tr>\n",
              "      <th>count</th>\n",
              "      <td>566.000</td>\n",
              "    </tr>\n",
              "    <tr>\n",
              "      <th>mean</th>\n",
              "      <td>0.561</td>\n",
              "    </tr>\n",
              "    <tr>\n",
              "      <th>std</th>\n",
              "      <td>0.047</td>\n",
              "    </tr>\n",
              "    <tr>\n",
              "      <th>min</th>\n",
              "      <td>0.485</td>\n",
              "    </tr>\n",
              "    <tr>\n",
              "      <th>25%</th>\n",
              "      <td>0.527</td>\n",
              "    </tr>\n",
              "    <tr>\n",
              "      <th>50%</th>\n",
              "      <td>0.549</td>\n",
              "    </tr>\n",
              "    <tr>\n",
              "      <th>75%</th>\n",
              "      <td>0.586</td>\n",
              "    </tr>\n",
              "    <tr>\n",
              "      <th>max</th>\n",
              "      <td>0.735</td>\n",
              "    </tr>\n",
              "  </tbody>\n",
              "</table>\n",
              "</div>"
            ],
            "text/plain": [
              "             0\n",
              "count  566.000\n",
              "mean     0.561\n",
              "std      0.047\n",
              "min      0.485\n",
              "25%      0.527\n",
              "50%      0.549\n",
              "75%      0.586\n",
              "max      0.735"
            ]
          },
          "metadata": {
            "tags": []
          },
          "execution_count": 121
        }
      ]
    },
    {
      "cell_type": "code",
      "metadata": {
        "colab": {
          "base_uri": "https://localhost:8080/",
          "height": 284
        },
        "id": "DiH-oSNYYL5B",
        "outputId": "8f10436b-95da-4de5-ee2a-ac16fb753142"
      },
      "source": [
        "all_false_pairssimlistCOStable.describe().round(3)"
      ],
      "execution_count": null,
      "outputs": [
        {
          "output_type": "execute_result",
          "data": {
            "text/html": [
              "<div>\n",
              "<style scoped>\n",
              "    .dataframe tbody tr th:only-of-type {\n",
              "        vertical-align: middle;\n",
              "    }\n",
              "\n",
              "    .dataframe tbody tr th {\n",
              "        vertical-align: top;\n",
              "    }\n",
              "\n",
              "    .dataframe thead th {\n",
              "        text-align: right;\n",
              "    }\n",
              "</style>\n",
              "<table border=\"1\" class=\"dataframe\">\n",
              "  <thead>\n",
              "    <tr style=\"text-align: right;\">\n",
              "      <th></th>\n",
              "      <th>0</th>\n",
              "    </tr>\n",
              "  </thead>\n",
              "  <tbody>\n",
              "    <tr>\n",
              "      <th>count</th>\n",
              "      <td>567.000</td>\n",
              "    </tr>\n",
              "    <tr>\n",
              "      <th>mean</th>\n",
              "      <td>0.189</td>\n",
              "    </tr>\n",
              "    <tr>\n",
              "      <th>std</th>\n",
              "      <td>0.145</td>\n",
              "    </tr>\n",
              "    <tr>\n",
              "      <th>min</th>\n",
              "      <td>-0.047</td>\n",
              "    </tr>\n",
              "    <tr>\n",
              "      <th>25%</th>\n",
              "      <td>0.083</td>\n",
              "    </tr>\n",
              "    <tr>\n",
              "      <th>50%</th>\n",
              "      <td>0.154</td>\n",
              "    </tr>\n",
              "    <tr>\n",
              "      <th>75%</th>\n",
              "      <td>0.268</td>\n",
              "    </tr>\n",
              "    <tr>\n",
              "      <th>max</th>\n",
              "      <td>1.000</td>\n",
              "    </tr>\n",
              "  </tbody>\n",
              "</table>\n",
              "</div>"
            ],
            "text/plain": [
              "             0\n",
              "count  567.000\n",
              "mean     0.189\n",
              "std      0.145\n",
              "min     -0.047\n",
              "25%      0.083\n",
              "50%      0.154\n",
              "75%      0.268\n",
              "max      1.000"
            ]
          },
          "metadata": {
            "tags": []
          },
          "execution_count": 122
        }
      ]
    },
    {
      "cell_type": "markdown",
      "metadata": {
        "id": "_1m2YEcKUZMw"
      },
      "source": [
        "# Visualization of semantic similarity"
      ]
    },
    {
      "cell_type": "code",
      "metadata": {
        "id": "xiVq0jOpGE6a"
      },
      "source": [
        "dataSIM = [all_true_pairssimlistSIMtable[0], all_false_pairssimlistSIMtable[0]]"
      ],
      "execution_count": null,
      "outputs": []
    },
    {
      "cell_type": "code",
      "metadata": {
        "id": "T3R9pqwFGKwH"
      },
      "source": [
        "dataCOS = [all_true_pairssimlistCOStable[0], all_false_pairssimlistCOStable[0]]"
      ],
      "execution_count": null,
      "outputs": []
    },
    {
      "cell_type": "code",
      "metadata": {
        "id": "WzCqomwPN-iY",
        "colab": {
          "base_uri": "https://localhost:8080/",
          "height": 385
        },
        "outputId": "e483088a-a326-47b8-e6ee-67d4aded5c55"
      },
      "source": [
        "bins = np.linspace(0, 1, 100)\n",
        "\n",
        "plt.figure(dpi=100)\n",
        "plt.hist(all_true_pairssimlistSIMtable[0], bins, alpha=0.5, label='true pairs', )\n",
        "plt.hist(all_false_pairssimlistSIMtable[0], bins, alpha=0.5, label='false pairs')\n",
        "\n",
        "plt.xlim(-0.1, 1.0)\n",
        "plt.xticks(np.arange(-0.1, 1.01, step=0.1))\n",
        "\n",
        "plt.legend(loc='upper right')\n",
        "plt.title(\"SIM similarity\") \n",
        "plt.ylabel(\"Frequency\")\n",
        "\n",
        "plt.show()"
      ],
      "execution_count": null,
      "outputs": [
        {
          "output_type": "display_data",
          "data": {
            "image/png": "[encoded data removed]",
            "text/plain": [
              "<Figure size 600x400 with 1 Axes>"
            ]
          },
          "metadata": {
            "tags": [],
            "needs_background": "light"
          }
        }
      ]
    },
    {
      "cell_type": "code",
      "metadata": {
        "colab": {
          "base_uri": "https://localhost:8080/",
          "height": 385
        },
        "id": "KGvbzKqZQTUc",
        "outputId": "76edcf59-4e22-4562-cc4e-cf27f7ea328d"
      },
      "source": [
        "bins = np.linspace(-0.1, 1, 100)\n",
        "plt.figure(dpi=100)\n",
        "\n",
        "plt.hist(all_true_pairssimlistCOStable[0], bins, alpha=0.5, label='true pairs')\n",
        "plt.hist(all_false_pairssimlistCOStable[0], bins, alpha=0.5, label='false pairs')\n",
        "\n",
        "plt.xlim(-0.1, 1.0)\n",
        "plt.xticks(np.arange(-0.1, 1.01, step=0.1))\n",
        "\n",
        "plt.ylabel(\"Frequency\")\n",
        "plt.legend(loc='upper right')\n",
        "plt.title(\"COS similarity\") \n",
        "plt.show()"
      ],
      "execution_count": null,
      "outputs": [
        {
          "output_type": "display_data",
          "data": {
            "image/png": "[encoded data removed]",
            "text/plain": [
              "<Figure size 600x400 with 1 Axes>"
            ]
          },
          "metadata": {
            "tags": [],
            "needs_background": "light"
          }
        }
      ]
    },
    {
      "cell_type": "code",
      "metadata": {
        "id": "ml1XR3a4ham9",
        "colab": {
          "base_uri": "https://localhost:8080/",
          "height": 234
        },
        "outputId": "2a80a118-8bd4-4e2c-8ae3-d5ccc41ec52b"
      },
      "source": [
        "fig, ax = plt.subplots(figsize=(6,2),dpi=100)\n",
        "\n",
        "ax.set_title('COS similarity')\n",
        "\n",
        "plt.xlim(0, 1)\n",
        "plt.xticks(np.arange(-0.1, 1.01, step=0.1))\n",
        "\n",
        "ax.boxplot(all_true_pairssimlistCOStable[0],positions= [1], medianprops=dict(color=\"C0\"), vert= False, widths=0.6, labels = ['true pairs'])\n",
        "ax.boxplot(all_false_pairssimlistCOStable[0],positions= [0], medianprops=dict(color=\"C1\"), vert= False, widths=0.6, labels = [\"false pairs\"])\n",
        "\n",
        "plt.show()"
      ],
      "execution_count": null,
      "outputs": [
        {
          "output_type": "display_data",
          "data": {
            "image/png": "[encoded data removed]",
            "text/plain": [
              "<Figure size 600x200 with 1 Axes>"
            ]
          },
          "metadata": {
            "tags": [],
            "needs_background": "light"
          }
        }
      ]
    },
    {
      "cell_type": "code",
      "metadata": {
        "colab": {
          "base_uri": "https://localhost:8080/",
          "height": 234
        },
        "id": "C9_nhozektpR",
        "outputId": "25f02fff-c600-48d7-bfde-4599defd150f"
      },
      "source": [
        "fig, ax = plt.subplots(figsize=(6,2),dpi=100)\n",
        "\n",
        "ax.set_title('SIM similarity')\n",
        "\n",
        "plt.xlim(0, 1)\n",
        "plt.xticks(np.arange(-0.1, 1.01, step=0.1))\n",
        "\n",
        "ax.boxplot(all_true_pairssimlistSIMtable[0],positions= [1], medianprops=dict(color=\"C0\"), vert= False, widths=0.6, labels = ['true pairs'])\n",
        "ax.boxplot(all_false_pairssimlistSIMtable[0],positions= [0], medianprops=dict(color=\"C1\"), vert= False, widths=0.6, labels = [\"false pairs\"])\n",
        "\n",
        "plt.show()"
      ],
      "execution_count": null,
      "outputs": [
        {
          "output_type": "display_data",
          "data": {
            "image/png": "[encoded data removed]",
            "text/plain": [
              "<Figure size 600x200 with 1 Axes>"
            ]
          },
          "metadata": {
            "tags": [],
            "needs_background": "light"
          }
        }
      ]
    },
    {
      "cell_type": "markdown",
      "metadata": {
        "id": "QMVY-CsCWrFS"
      },
      "source": [
        "# Getting best models for COS and SIM\n",
        "\n"
      ]
    },
    {
      "cell_type": "code",
      "metadata": {
        "id": "-T-m_yvq-AFk"
      },
      "source": [
        "from sklearn.model_selection import train_test_split\n",
        "from sklearn.metrics import confusion_matrix\n",
        "from tensorflow import keras\n",
        "from tensorflow.keras.layers import Activation, Dense\n",
        "from tensorflow.keras.optimizers import Adam\n",
        "from tensorflow.keras.metrics import categorical_crossentropy\n",
        "from keras.utils import to_categorical"
      ],
      "execution_count": null,
      "outputs": []
    },
    {
      "cell_type": "code",
      "metadata": {
        "id": "WxTBX7vdbQ5u"
      },
      "source": [
        "def create_train_test(df, test_size = 0.33):\n",
        "  X = df[0]\n",
        "  y = df['label']\n",
        "  y = to_categorical(y)\n",
        "  X_train, X_test, y_train, y_test = train_test_split(X, y, test_size=0.33, random_state=420)\n",
        "  \n",
        "  return X_train, X_test, y_train, y_test"
      ],
      "execution_count": null,
      "outputs": []
    },
    {
      "cell_type": "code",
      "metadata": {
        "id": "2BrLeFH2jJzJ"
      },
      "source": [
        "import matplotlib as mpl\n",
        "\n",
        "def plot_confusion_matrix(cm, classes, normalize=False, cmap=mpl.cm.binary, title = None):\n",
        "    plt.figure(dpi=100)\n",
        "    if title:\n",
        "      plt.title(title)\n",
        "    plt.imshow(cm, interpolation='nearest', cmap=cmap)\n",
        "    tick_marks = np.arange(len(classes))\n",
        "    plt.xticks(tick_marks, classes, rotation=45)\n",
        "    plt.yticks(tick_marks, classes)\n",
        "\n",
        "    # if normalize:\n",
        "    #     cm = cm.astype('float') / cm.sum(axis=1)[:np.newaxis]\n",
        "    #     print('Normalized confusiom matrix')\n",
        "    # else:\n",
        "    #     print('Confusion matrix without normalization')\n",
        "\n",
        "    print(cm)\n",
        "\n",
        "    thresh = cm.max() / 2.\n",
        "    for i, j in itertools.product(range(cm.shape[0]), range(cm.shape[1])):\n",
        "        plt.text(j, i, cm[i, j], \n",
        "                 horizontalalignment=\"center\",\n",
        "                 color=\"white\" if cm[i, j] > thresh else \"black\")\n",
        "\n",
        "    plt.tight_layout()\n",
        "    plt.ylabel('Prawdziwe')\n",
        "    plt.xlabel('Przewidywane')\n",
        "    plt.show()\n",
        "cm_plot_labels = ['nie para', 'para']"
      ],
      "execution_count": null,
      "outputs": []
    },
    {
      "cell_type": "code",
      "metadata": {
        "id": "PDvQQ6rcfYn3"
      },
      "source": [
        "def create_fit_model(X_train, y_train, epochs, learning_rate, loss, metrics):\n",
        "  model = tf.keras.Sequential([\n",
        "    Dense(units=3, input_dim= 1, activation='relu'),\n",
        "    Dense(units=3, activation='relu'),\n",
        "    Dense(units=3, activation='relu'),\n",
        "    Dense(units=2, activation='softmax')\n",
        "  ])\n",
        "  model.compile(optimizer=Adam(learning_rate= learning_rate), loss=loss, metrics=metrics)\n",
        "  history = model.fit(x=X_train, y=y_train,shuffle=True, epochs=epochs, verbose=0)\n",
        "\n",
        "  return history, model"
      ],
      "execution_count": null,
      "outputs": []
    },
    {
      "cell_type": "code",
      "metadata": {
        "id": "XhKeIrn8f9Kp"
      },
      "source": [
        "def predict(model, X_test, y_test):\n",
        "  predictions = model.predict(x=X_test, verbose=0)\n",
        "  defEncod_pred = np.argmax(predictions, axis=1)\n",
        "  defEncod_labels = np.argmax(y_test, axis=1)\n",
        "  cm = confusion_matrix(y_true = defEncod_labels, y_pred = defEncod_pred)\n",
        "  f1 = sklearn.metrics.f1_score(defEncod_labels, defEncod_pred)\n",
        "  return cm, f1"
      ],
      "execution_count": null,
      "outputs": []
    },
    {
      "cell_type": "code",
      "metadata": {
        "id": "QGk6QGok8hN2"
      },
      "source": [
        "averaging_iters = 5\n",
        "epochs = 200\n",
        "\n",
        "dfs = [all_pairssimlistCOStable, all_pairssimlistSIMtable]\n",
        "sim_measure = [\"cos\", \"sim\"]\n",
        "\n",
        "metrics_avg = {\"cos\":{\"f1\":0, \"acc\":0, \"loss\":0, \"cm\":np.zeros((2,2),dtype = int)}, \"sim\":{\"f1\":0, \"acc\":0, \"loss\":0, \"cm\": np.zeros((2,2),dtype = int)}}\n",
        "metrics_max = {\"cos\":[], \"sim\":[]}\n",
        "learning_rates = [0.00001,0.00005,0.0001,0.0005,0.001,0.005,0.01,0.05,0.1]\n",
        "f1acc_matrix = np.zeros((2,len(learning_rates), averaging_iters))\n",
        "best_models1 = {\"cos\":[], \"sim\":[]}\n",
        "# best_models = {\"acc\":{\"cos\":[], \"sim\":[]},\"f1\":{\"cos\":[], \"sim\":[]}}\n",
        "\n",
        "mode = \"max\"\n",
        "\n",
        "for simcos, df in zip(sim_measure, dfs):\n",
        "  X_train, X_test, y_train, y_test = create_train_test(df)\n",
        "  for i in range(averaging_iters):\n",
        "    for j in range(len(learning_rates)):\n",
        "      #create and fit a model\n",
        "      history, model = create_fit_model(X_train, y_train, epochs, learning_rates[j], 'categorical_crossentropy', ['accuracy'])\n",
        "\n",
        "      #evaluate model to get Accuracy and Loss on test set\n",
        "      loss, acc = model.evaluate(X_test,y_test, verbose=0)\n",
        "\n",
        "      #make predictions for a given model to get confusion matrix and f1\n",
        "      cm, f1 = predict(model, X_test, y_test)\n",
        "\n",
        "      #save metrics' scores\n",
        "      if mode == \"avg\":\n",
        "        metrics_avg[simcos][\"acc\"] += acc\n",
        "        metrics_avg[simcos][\"loss\"] += loss\n",
        "        metrics_avg[simcos][\"f1\"] += f1\n",
        "        metrics_avg[simcos]['cm'] += cm\n",
        "\n",
        "      if mode == \"max\":\n",
        "        metrics_max[simcos].append([acc, loss, f1, cm, learning_rates[j]])\n",
        "        f1acc_matrix[0,j,i] = acc\n",
        "        f1acc_matrix[1,j,i] = f1\n",
        "\n",
        "  if mode == \"avg\":\n",
        "    #divide by number of iterations to get an average score\n",
        "    metrics_avg[simcos]['cm'] = metrics_avg[simcos]['cm'] // averaging_iters\n",
        "    metrics_avg[simcos][\"acc\"] /= averaging_iters\n",
        "    metrics_avg[simcos][\"loss\"] /= averaging_iters\n",
        "    metrics_avg[simcos][\"f1\"] /= averaging_iters\n",
        "\n",
        "  if mode == \"max\":\n",
        "    #choose models with the best accuracy and f1 score\n",
        "    sum_f1acc_matrix = f1acc_matrix[0] + f1acc_matrix[1]\n",
        "    bestmodel1_num = np.argmax(sum_f1acc_matrix.reshape(-1, order='F'))\n",
        "    best_models1[simcos] = metrics_max[simcos][bestmodel1_num]"
      ],
      "execution_count": null,
      "outputs": []
    },
    {
      "cell_type": "code",
      "metadata": {
        "colab": {
          "base_uri": "https://localhost:8080/"
        },
        "id": "5e1Yq1tIX0Pa",
        "outputId": "f92e3013-0240-43e3-cbea-a5fc880ac744"
      },
      "source": [
        "best_models1"
      ],
      "execution_count": null,
      "outputs": [
        {
          "output_type": "execute_result",
          "data": {
            "text/plain": [
              "{'cos': [0.6773333549499512,\n",
              "  0.6856050491333008,\n",
              "  0.6666666666666666,\n",
              "  array([[133,  63],\n",
              "         [ 58, 121]]),\n",
              "  1e-05],\n",
              " 'sim': [0.6880000233650208, nan, 0.7180722891566265, array([[109,  74],\n",
              "         [ 43, 149]]), 0.0001]}"
            ]
          },
          "metadata": {
            "tags": []
          },
          "execution_count": 200
        }
      ]
    },
    {
      "cell_type": "markdown",
      "metadata": {
        "id": "5TF9twBX6k9c"
      },
      "source": [
        "# Best models overview\n",
        "\n",
        "\n"
      ]
    },
    {
      "cell_type": "code",
      "metadata": {
        "colab": {
          "base_uri": "https://localhost:8080/",
          "height": 1000
        },
        "id": "GZ4o1_b7dg1A",
        "outputId": "2317d5bd-015f-4418-9e2a-39cc80c9e9e0"
      },
      "source": [
        "for simcos in [\"cos\",\"sim\"]:\n",
        "  print(f\"{simcos.upper()} similarity measure\")\n",
        "  print(\"Accuracy:\",best_models1[simcos][0])\n",
        "  print(\"Loss:\",best_models1[simcos][1])\n",
        "  print(\"F1 score:\",best_models1[simcos][2])\n",
        "  print(\"Best learning rate:\",best_models1[simcos][4])\n",
        "  plot_confusion_matrix(cm= best_models1[simcos][3] , classes=cm_plot_labels, title = f\"Confusion Matrix for best {simcos} model\")\n",
        "  print(\"\")"
      ],
      "execution_count": null,
      "outputs": [
        {
          "output_type": "stream",
          "text": [
            "COS similarity measure\n",
            "Accuracy: 0.6773333549499512\n",
            "Loss: 0.6856050491333008\n",
            "F1 score: 0.6666666666666666\n",
            "Best learning rate: 1e-05\n",
            "[[133  63]\n",
            " [ 58 121]]\n"
          ],
          "name": "stdout"
        },
        {
          "output_type": "display_data",
          "data": {
            "image/png": "[encoded data removed]",
            "text/plain": [
              "<Figure size 600x400 with 1 Axes>"
            ]
          },
          "metadata": {
            "tags": [],
            "needs_background": "light"
          }
        },
        {
          "output_type": "stream",
          "text": [
            "\n",
            "SIM similarity measure\n",
            "Accuracy: 0.6880000233650208\n",
            "Loss: nan\n",
            "F1 score: 0.7180722891566265\n",
            "Best learning rate: 0.0001\n",
            "[[109  74]\n",
            " [ 43 149]]\n"
          ],
          "name": "stdout"
        },
        {
          "output_type": "display_data",
          "data": {
            "image/png": "[encoded data removed]",
            "text/plain": [
              "<Figure size 600x400 with 1 Axes>"
            ]
          },
          "metadata": {
            "tags": [],
            "needs_background": "light"
          }
        },
        {
          "output_type": "stream",
          "text": [
            "\n"
          ],
          "name": "stdout"
        }
      ]
    },
    {
      "cell_type": "markdown",
      "metadata": {
        "id": "JqqzWkqySP6k"
      },
      "source": [
        "# Examples of training a model"
      ]
    },
    {
      "cell_type": "markdown",
      "metadata": {
        "id": "fyExMAdB9wUX"
      },
      "source": [
        "using COS similarity measure"
      ]
    },
    {
      "cell_type": "code",
      "metadata": {
        "id": "kmZ5tKVXOZhw"
      },
      "source": [
        "X_train, X_test, y_train, y_test = create_train_test(all_pairssimlistCOStable)"
      ],
      "execution_count": null,
      "outputs": []
    },
    {
      "cell_type": "code",
      "metadata": {
        "id": "rlMu87nSv2Hp",
        "colab": {
          "base_uri": "https://localhost:8080/"
        },
        "outputId": "2c59b994-2998-4406-ca02-fc3a6b981430"
      },
      "source": [
        "model1 = tf.keras.Sequential([\n",
        "    Dense(units=3, input_dim= 1, activation='relu'),\n",
        "    Dense(units=3, activation='relu'),\n",
        "    Dense(units=3, activation='relu'),\n",
        "    Dense(units=2, activation='softmax')\n",
        "  ])\n",
        "model1.compile(optimizer=Adam(learning_rate=0.0005), loss='categorical_crossentropy', metrics=['accuracy'])\n",
        "history = model1.fit(x=X_train, y=y_train,shuffle=True, epochs=200, verbose=2)"
      ],
      "execution_count": null,
      "outputs": [
        {
          "output_type": "stream",
          "text": [
            "Epoch 1/200\n",
            "24/24 - 0s - loss: 0.6933 - accuracy: 0.4888\n",
            "Epoch 2/200\n",
            "24/24 - 0s - loss: 0.6931 - accuracy: 0.5231\n",
            "Epoch 3/200\n",
            "24/24 - 0s - loss: 0.6927 - accuracy: 0.5112\n",
            "Epoch 4/200\n",
            "24/24 - 0s - loss: 0.6925 - accuracy: 0.5112\n",
            "Epoch 5/200\n",
            "24/24 - 0s - loss: 0.6922 - accuracy: 0.5112\n",
            "Epoch 6/200\n",
            "24/24 - 0s - loss: 0.6919 - accuracy: 0.5112\n",
            "Epoch 7/200\n",
            "24/24 - 0s - loss: 0.6915 - accuracy: 0.5112\n",
            "Epoch 8/200\n",
            "24/24 - 0s - loss: 0.6910 - accuracy: 0.5112\n",
            "Epoch 9/200\n",
            "24/24 - 0s - loss: 0.6903 - accuracy: 0.5112\n",
            "Epoch 10/200\n",
            "24/24 - 0s - loss: 0.6895 - accuracy: 0.5112\n",
            "Epoch 11/200\n",
            "24/24 - 0s - loss: 0.6886 - accuracy: 0.5112\n",
            "Epoch 12/200\n",
            "24/24 - 0s - loss: 0.6874 - accuracy: 0.5112\n",
            "Epoch 13/200\n",
            "24/24 - 0s - loss: 0.6861 - accuracy: 0.5112\n",
            "Epoch 14/200\n",
            "24/24 - 0s - loss: 0.6846 - accuracy: 0.5112\n",
            "Epoch 15/200\n",
            "24/24 - 0s - loss: 0.6828 - accuracy: 0.5112\n",
            "Epoch 16/200\n",
            "24/24 - 0s - loss: 0.6808 - accuracy: 0.5112\n",
            "Epoch 17/200\n",
            "24/24 - 0s - loss: 0.6785 - accuracy: 0.5112\n",
            "Epoch 18/200\n",
            "24/24 - 0s - loss: 0.6760 - accuracy: 0.5112\n",
            "Epoch 19/200\n",
            "24/24 - 0s - loss: 0.6734 - accuracy: 0.5112\n",
            "Epoch 20/200\n",
            "24/24 - 0s - loss: 0.6704 - accuracy: 0.5705\n",
            "Epoch 21/200\n",
            "24/24 - 0s - loss: 0.6670 - accuracy: 0.5771\n",
            "Epoch 22/200\n",
            "24/24 - 0s - loss: 0.6634 - accuracy: 0.5889\n",
            "Epoch 23/200\n",
            "24/24 - 0s - loss: 0.6598 - accuracy: 0.5995\n",
            "Epoch 24/200\n",
            "24/24 - 0s - loss: 0.6561 - accuracy: 0.6087\n",
            "Epoch 25/200\n",
            "24/24 - 0s - loss: 0.6521 - accuracy: 0.6219\n",
            "Epoch 26/200\n",
            "24/24 - 0s - loss: 0.6479 - accuracy: 0.6469\n",
            "Epoch 27/200\n",
            "24/24 - 0s - loss: 0.6437 - accuracy: 0.6640\n",
            "Epoch 28/200\n",
            "24/24 - 0s - loss: 0.6395 - accuracy: 0.6667\n",
            "Epoch 29/200\n",
            "24/24 - 0s - loss: 0.6353 - accuracy: 0.6693\n",
            "Epoch 30/200\n",
            "24/24 - 0s - loss: 0.6309 - accuracy: 0.6772\n",
            "Epoch 31/200\n",
            "24/24 - 0s - loss: 0.6268 - accuracy: 0.6877\n",
            "Epoch 32/200\n",
            "24/24 - 0s - loss: 0.6227 - accuracy: 0.6904\n",
            "Epoch 33/200\n",
            "24/24 - 0s - loss: 0.6186 - accuracy: 0.6917\n",
            "Epoch 34/200\n",
            "24/24 - 0s - loss: 0.6146 - accuracy: 0.6983\n",
            "Epoch 35/200\n",
            "24/24 - 0s - loss: 0.6107 - accuracy: 0.6983\n",
            "Epoch 36/200\n",
            "24/24 - 0s - loss: 0.6071 - accuracy: 0.7062\n",
            "Epoch 37/200\n",
            "24/24 - 0s - loss: 0.6035 - accuracy: 0.7128\n",
            "Epoch 38/200\n",
            "24/24 - 0s - loss: 0.6000 - accuracy: 0.7128\n",
            "Epoch 39/200\n",
            "24/24 - 0s - loss: 0.5967 - accuracy: 0.7115\n",
            "Epoch 40/200\n",
            "24/24 - 0s - loss: 0.5936 - accuracy: 0.7101\n",
            "Epoch 41/200\n",
            "24/24 - 0s - loss: 0.5906 - accuracy: 0.7128\n",
            "Epoch 42/200\n",
            "24/24 - 0s - loss: 0.5878 - accuracy: 0.7128\n",
            "Epoch 43/200\n",
            "24/24 - 0s - loss: 0.5851 - accuracy: 0.7167\n",
            "Epoch 44/200\n",
            "24/24 - 0s - loss: 0.5825 - accuracy: 0.7286\n",
            "Epoch 45/200\n",
            "24/24 - 0s - loss: 0.5802 - accuracy: 0.7260\n",
            "Epoch 46/200\n",
            "24/24 - 0s - loss: 0.5777 - accuracy: 0.7312\n",
            "Epoch 47/200\n",
            "24/24 - 0s - loss: 0.5755 - accuracy: 0.7325\n",
            "Epoch 48/200\n",
            "24/24 - 0s - loss: 0.5735 - accuracy: 0.7325\n",
            "Epoch 49/200\n",
            "24/24 - 0s - loss: 0.5714 - accuracy: 0.7325\n",
            "Epoch 50/200\n",
            "24/24 - 0s - loss: 0.5694 - accuracy: 0.7352\n",
            "Epoch 51/200\n",
            "24/24 - 0s - loss: 0.5675 - accuracy: 0.7339\n",
            "Epoch 52/200\n",
            "24/24 - 0s - loss: 0.5660 - accuracy: 0.7352\n",
            "Epoch 53/200\n",
            "24/24 - 0s - loss: 0.5642 - accuracy: 0.7352\n",
            "Epoch 54/200\n",
            "24/24 - 0s - loss: 0.5627 - accuracy: 0.7352\n",
            "Epoch 55/200\n",
            "24/24 - 0s - loss: 0.5612 - accuracy: 0.7339\n",
            "Epoch 56/200\n",
            "24/24 - 0s - loss: 0.5598 - accuracy: 0.7325\n",
            "Epoch 57/200\n",
            "24/24 - 0s - loss: 0.5587 - accuracy: 0.7339\n",
            "Epoch 58/200\n",
            "24/24 - 0s - loss: 0.5576 - accuracy: 0.7312\n",
            "Epoch 59/200\n",
            "24/24 - 0s - loss: 0.5561 - accuracy: 0.7339\n",
            "Epoch 60/200\n",
            "24/24 - 0s - loss: 0.5552 - accuracy: 0.7299\n",
            "Epoch 61/200\n",
            "24/24 - 0s - loss: 0.5540 - accuracy: 0.7299\n",
            "Epoch 62/200\n",
            "24/24 - 0s - loss: 0.5530 - accuracy: 0.7312\n",
            "Epoch 63/200\n",
            "24/24 - 0s - loss: 0.5520 - accuracy: 0.7325\n",
            "Epoch 64/200\n",
            "24/24 - 0s - loss: 0.5511 - accuracy: 0.7325\n",
            "Epoch 65/200\n",
            "24/24 - 0s - loss: 0.5507 - accuracy: 0.7299\n",
            "Epoch 66/200\n",
            "24/24 - 0s - loss: 0.5495 - accuracy: 0.7339\n",
            "Epoch 67/200\n",
            "24/24 - 0s - loss: 0.5487 - accuracy: 0.7325\n",
            "Epoch 68/200\n",
            "24/24 - 0s - loss: 0.5479 - accuracy: 0.7352\n",
            "Epoch 69/200\n",
            "24/24 - 0s - loss: 0.5472 - accuracy: 0.7352\n",
            "Epoch 70/200\n",
            "24/24 - 0s - loss: 0.5467 - accuracy: 0.7339\n",
            "Epoch 71/200\n",
            "24/24 - 0s - loss: 0.5460 - accuracy: 0.7365\n",
            "Epoch 72/200\n",
            "24/24 - 0s - loss: 0.5453 - accuracy: 0.7339\n",
            "Epoch 73/200\n",
            "24/24 - 0s - loss: 0.5448 - accuracy: 0.7339\n",
            "Epoch 74/200\n",
            "24/24 - 0s - loss: 0.5441 - accuracy: 0.7339\n",
            "Epoch 75/200\n",
            "24/24 - 0s - loss: 0.5438 - accuracy: 0.7339\n",
            "Epoch 76/200\n",
            "24/24 - 0s - loss: 0.5432 - accuracy: 0.7325\n",
            "Epoch 77/200\n",
            "24/24 - 0s - loss: 0.5427 - accuracy: 0.7325\n",
            "Epoch 78/200\n",
            "24/24 - 0s - loss: 0.5422 - accuracy: 0.7312\n",
            "Epoch 79/200\n",
            "24/24 - 0s - loss: 0.5417 - accuracy: 0.7325\n",
            "Epoch 80/200\n",
            "24/24 - 0s - loss: 0.5413 - accuracy: 0.7312\n",
            "Epoch 81/200\n",
            "24/24 - 0s - loss: 0.5410 - accuracy: 0.7299\n",
            "Epoch 82/200\n",
            "24/24 - 0s - loss: 0.5405 - accuracy: 0.7312\n",
            "Epoch 83/200\n",
            "24/24 - 0s - loss: 0.5403 - accuracy: 0.7312\n",
            "Epoch 84/200\n",
            "24/24 - 0s - loss: 0.5397 - accuracy: 0.7299\n",
            "Epoch 85/200\n",
            "24/24 - 0s - loss: 0.5394 - accuracy: 0.7312\n",
            "Epoch 86/200\n",
            "24/24 - 0s - loss: 0.5390 - accuracy: 0.7312\n",
            "Epoch 87/200\n",
            "24/24 - 0s - loss: 0.5390 - accuracy: 0.7312\n",
            "Epoch 88/200\n",
            "24/24 - 0s - loss: 0.5385 - accuracy: 0.7325\n",
            "Epoch 89/200\n",
            "24/24 - 0s - loss: 0.5382 - accuracy: 0.7312\n",
            "Epoch 90/200\n",
            "24/24 - 0s - loss: 0.5380 - accuracy: 0.7325\n",
            "Epoch 91/200\n",
            "24/24 - 0s - loss: 0.5377 - accuracy: 0.7325\n",
            "Epoch 92/200\n",
            "24/24 - 0s - loss: 0.5375 - accuracy: 0.7339\n",
            "Epoch 93/200\n",
            "24/24 - 0s - loss: 0.5371 - accuracy: 0.7339\n",
            "Epoch 94/200\n",
            "24/24 - 0s - loss: 0.5372 - accuracy: 0.7299\n",
            "Epoch 95/200\n",
            "24/24 - 0s - loss: 0.5367 - accuracy: 0.7312\n",
            "Epoch 96/200\n",
            "24/24 - 0s - loss: 0.5368 - accuracy: 0.7312\n",
            "Epoch 97/200\n",
            "24/24 - 0s - loss: 0.5367 - accuracy: 0.7325\n",
            "Epoch 98/200\n",
            "24/24 - 0s - loss: 0.5365 - accuracy: 0.7312\n",
            "Epoch 99/200\n",
            "24/24 - 0s - loss: 0.5359 - accuracy: 0.7312\n",
            "Epoch 100/200\n",
            "24/24 - 0s - loss: 0.5357 - accuracy: 0.7339\n",
            "Epoch 101/200\n",
            "24/24 - 0s - loss: 0.5355 - accuracy: 0.7299\n",
            "Epoch 102/200\n",
            "24/24 - 0s - loss: 0.5353 - accuracy: 0.7312\n",
            "Epoch 103/200\n",
            "24/24 - 0s - loss: 0.5352 - accuracy: 0.7312\n",
            "Epoch 104/200\n",
            "24/24 - 0s - loss: 0.5351 - accuracy: 0.7312\n",
            "Epoch 105/200\n",
            "24/24 - 0s - loss: 0.5347 - accuracy: 0.7325\n",
            "Epoch 106/200\n",
            "24/24 - 0s - loss: 0.5346 - accuracy: 0.7299\n",
            "Epoch 107/200\n",
            "24/24 - 0s - loss: 0.5344 - accuracy: 0.7286\n",
            "Epoch 108/200\n",
            "24/24 - 0s - loss: 0.5343 - accuracy: 0.7299\n",
            "Epoch 109/200\n",
            "24/24 - 0s - loss: 0.5342 - accuracy: 0.7286\n",
            "Epoch 110/200\n",
            "24/24 - 0s - loss: 0.5341 - accuracy: 0.7286\n",
            "Epoch 111/200\n",
            "24/24 - 0s - loss: 0.5340 - accuracy: 0.7299\n",
            "Epoch 112/200\n",
            "24/24 - 0s - loss: 0.5342 - accuracy: 0.7312\n",
            "Epoch 113/200\n",
            "24/24 - 0s - loss: 0.5337 - accuracy: 0.7286\n",
            "Epoch 114/200\n",
            "24/24 - 0s - loss: 0.5337 - accuracy: 0.7312\n",
            "Epoch 115/200\n",
            "24/24 - 0s - loss: 0.5335 - accuracy: 0.7312\n",
            "Epoch 116/200\n",
            "24/24 - 0s - loss: 0.5336 - accuracy: 0.7299\n",
            "Epoch 117/200\n",
            "24/24 - 0s - loss: 0.5333 - accuracy: 0.7286\n",
            "Epoch 118/200\n",
            "24/24 - 0s - loss: 0.5333 - accuracy: 0.7299\n",
            "Epoch 119/200\n",
            "24/24 - 0s - loss: 0.5331 - accuracy: 0.7312\n",
            "Epoch 120/200\n",
            "24/24 - 0s - loss: 0.5333 - accuracy: 0.7286\n",
            "Epoch 121/200\n",
            "24/24 - 0s - loss: 0.5331 - accuracy: 0.7299\n",
            "Epoch 122/200\n",
            "24/24 - 0s - loss: 0.5329 - accuracy: 0.7312\n",
            "Epoch 123/200\n",
            "24/24 - 0s - loss: 0.5328 - accuracy: 0.7312\n",
            "Epoch 124/200\n",
            "24/24 - 0s - loss: 0.5327 - accuracy: 0.7312\n",
            "Epoch 125/200\n",
            "24/24 - 0s - loss: 0.5328 - accuracy: 0.7299\n",
            "Epoch 126/200\n",
            "24/24 - 0s - loss: 0.5326 - accuracy: 0.7286\n",
            "Epoch 127/200\n",
            "24/24 - 0s - loss: 0.5326 - accuracy: 0.7299\n",
            "Epoch 128/200\n",
            "24/24 - 0s - loss: 0.5324 - accuracy: 0.7299\n",
            "Epoch 129/200\n",
            "24/24 - 0s - loss: 0.5324 - accuracy: 0.7312\n",
            "Epoch 130/200\n",
            "24/24 - 0s - loss: 0.5322 - accuracy: 0.7312\n",
            "Epoch 131/200\n",
            "24/24 - 0s - loss: 0.5322 - accuracy: 0.7286\n",
            "Epoch 132/200\n",
            "24/24 - 0s - loss: 0.5321 - accuracy: 0.7299\n",
            "Epoch 133/200\n",
            "24/24 - 0s - loss: 0.5322 - accuracy: 0.7286\n",
            "Epoch 134/200\n",
            "24/24 - 0s - loss: 0.5320 - accuracy: 0.7299\n",
            "Epoch 135/200\n",
            "24/24 - 0s - loss: 0.5320 - accuracy: 0.7312\n",
            "Epoch 136/200\n",
            "24/24 - 0s - loss: 0.5320 - accuracy: 0.7312\n",
            "Epoch 137/200\n",
            "24/24 - 0s - loss: 0.5318 - accuracy: 0.7312\n",
            "Epoch 138/200\n",
            "24/24 - 0s - loss: 0.5319 - accuracy: 0.7312\n",
            "Epoch 139/200\n",
            "24/24 - 0s - loss: 0.5317 - accuracy: 0.7312\n",
            "Epoch 140/200\n",
            "24/24 - 0s - loss: 0.5317 - accuracy: 0.7299\n",
            "Epoch 141/200\n",
            "24/24 - 0s - loss: 0.5319 - accuracy: 0.7312\n",
            "Epoch 142/200\n",
            "24/24 - 0s - loss: 0.5316 - accuracy: 0.7312\n",
            "Epoch 143/200\n",
            "24/24 - 0s - loss: 0.5316 - accuracy: 0.7286\n",
            "Epoch 144/200\n",
            "24/24 - 0s - loss: 0.5315 - accuracy: 0.7299\n",
            "Epoch 145/200\n",
            "24/24 - 0s - loss: 0.5315 - accuracy: 0.7312\n",
            "Epoch 146/200\n",
            "24/24 - 0s - loss: 0.5314 - accuracy: 0.7312\n",
            "Epoch 147/200\n",
            "24/24 - 0s - loss: 0.5313 - accuracy: 0.7312\n",
            "Epoch 148/200\n",
            "24/24 - 0s - loss: 0.5313 - accuracy: 0.7312\n",
            "Epoch 149/200\n",
            "24/24 - 0s - loss: 0.5313 - accuracy: 0.7312\n",
            "Epoch 150/200\n",
            "24/24 - 0s - loss: 0.5312 - accuracy: 0.7312\n",
            "Epoch 151/200\n",
            "24/24 - 0s - loss: 0.5314 - accuracy: 0.7299\n",
            "Epoch 152/200\n",
            "24/24 - 0s - loss: 0.5311 - accuracy: 0.7312\n",
            "Epoch 153/200\n",
            "24/24 - 0s - loss: 0.5312 - accuracy: 0.7299\n",
            "Epoch 154/200\n",
            "24/24 - 0s - loss: 0.5309 - accuracy: 0.7299\n",
            "Epoch 155/200\n",
            "24/24 - 0s - loss: 0.5309 - accuracy: 0.7299\n",
            "Epoch 156/200\n",
            "24/24 - 0s - loss: 0.5308 - accuracy: 0.7286\n",
            "Epoch 157/200\n",
            "24/24 - 0s - loss: 0.5308 - accuracy: 0.7299\n",
            "Epoch 158/200\n",
            "24/24 - 0s - loss: 0.5309 - accuracy: 0.7312\n",
            "Epoch 159/200\n",
            "24/24 - 0s - loss: 0.5307 - accuracy: 0.7299\n",
            "Epoch 160/200\n",
            "24/24 - 0s - loss: 0.5306 - accuracy: 0.7286\n",
            "Epoch 161/200\n",
            "24/24 - 0s - loss: 0.5308 - accuracy: 0.7312\n",
            "Epoch 162/200\n",
            "24/24 - 0s - loss: 0.5307 - accuracy: 0.7299\n",
            "Epoch 163/200\n",
            "24/24 - 0s - loss: 0.5306 - accuracy: 0.7286\n",
            "Epoch 164/200\n",
            "24/24 - 0s - loss: 0.5304 - accuracy: 0.7286\n",
            "Epoch 165/200\n",
            "24/24 - 0s - loss: 0.5306 - accuracy: 0.7299\n",
            "Epoch 166/200\n",
            "24/24 - 0s - loss: 0.5304 - accuracy: 0.7286\n",
            "Epoch 167/200\n",
            "24/24 - 0s - loss: 0.5303 - accuracy: 0.7286\n",
            "Epoch 168/200\n",
            "24/24 - 0s - loss: 0.5302 - accuracy: 0.7299\n",
            "Epoch 169/200\n",
            "24/24 - 0s - loss: 0.5302 - accuracy: 0.7286\n",
            "Epoch 170/200\n",
            "24/24 - 0s - loss: 0.5304 - accuracy: 0.7299\n",
            "Epoch 171/200\n",
            "24/24 - 0s - loss: 0.5302 - accuracy: 0.7312\n",
            "Epoch 172/200\n",
            "24/24 - 0s - loss: 0.5301 - accuracy: 0.7299\n",
            "Epoch 173/200\n",
            "24/24 - 0s - loss: 0.5301 - accuracy: 0.7312\n",
            "Epoch 174/200\n",
            "24/24 - 0s - loss: 0.5302 - accuracy: 0.7299\n",
            "Epoch 175/200\n",
            "24/24 - 0s - loss: 0.5300 - accuracy: 0.7299\n",
            "Epoch 176/200\n",
            "24/24 - 0s - loss: 0.5300 - accuracy: 0.7286\n",
            "Epoch 177/200\n",
            "24/24 - 0s - loss: 0.5299 - accuracy: 0.7299\n",
            "Epoch 178/200\n",
            "24/24 - 0s - loss: 0.5301 - accuracy: 0.7299\n",
            "Epoch 179/200\n",
            "24/24 - 0s - loss: 0.5301 - accuracy: 0.7312\n",
            "Epoch 180/200\n",
            "24/24 - 0s - loss: 0.5299 - accuracy: 0.7339\n",
            "Epoch 181/200\n",
            "24/24 - 0s - loss: 0.5299 - accuracy: 0.7312\n",
            "Epoch 182/200\n",
            "24/24 - 0s - loss: 0.5299 - accuracy: 0.7312\n",
            "Epoch 183/200\n",
            "24/24 - 0s - loss: 0.5298 - accuracy: 0.7312\n",
            "Epoch 184/200\n",
            "24/24 - 0s - loss: 0.5296 - accuracy: 0.7299\n",
            "Epoch 185/200\n",
            "24/24 - 0s - loss: 0.5297 - accuracy: 0.7312\n",
            "Epoch 186/200\n",
            "24/24 - 0s - loss: 0.5296 - accuracy: 0.7299\n",
            "Epoch 187/200\n",
            "24/24 - 0s - loss: 0.5295 - accuracy: 0.7299\n",
            "Epoch 188/200\n",
            "24/24 - 0s - loss: 0.5296 - accuracy: 0.7299\n",
            "Epoch 189/200\n",
            "24/24 - 0s - loss: 0.5295 - accuracy: 0.7286\n",
            "Epoch 190/200\n",
            "24/24 - 0s - loss: 0.5295 - accuracy: 0.7312\n",
            "Epoch 191/200\n",
            "24/24 - 0s - loss: 0.5294 - accuracy: 0.7299\n",
            "Epoch 192/200\n",
            "24/24 - 0s - loss: 0.5296 - accuracy: 0.7299\n",
            "Epoch 193/200\n",
            "24/24 - 0s - loss: 0.5294 - accuracy: 0.7286\n",
            "Epoch 194/200\n",
            "24/24 - 0s - loss: 0.5292 - accuracy: 0.7286\n",
            "Epoch 195/200\n",
            "24/24 - 0s - loss: 0.5293 - accuracy: 0.7312\n",
            "Epoch 196/200\n",
            "24/24 - 0s - loss: 0.5297 - accuracy: 0.7286\n",
            "Epoch 197/200\n",
            "24/24 - 0s - loss: 0.5293 - accuracy: 0.7299\n",
            "Epoch 198/200\n",
            "24/24 - 0s - loss: 0.5293 - accuracy: 0.7299\n",
            "Epoch 199/200\n",
            "24/24 - 0s - loss: 0.5292 - accuracy: 0.7299\n",
            "Epoch 200/200\n",
            "24/24 - 0s - loss: 0.5291 - accuracy: 0.7299\n"
          ],
          "name": "stdout"
        }
      ]
    },
    {
      "cell_type": "code",
      "metadata": {
        "colab": {
          "base_uri": "https://localhost:8080/",
          "height": 382
        },
        "id": "FiyVSFm7V7mD",
        "outputId": "82a8515c-2aa2-4e36-ffd4-09a165387345"
      },
      "source": [
        "plt.figure(dpi=100)\n",
        "plt.plot(history.history['accuracy'])\n",
        "plt.ylabel('accuracy')\n",
        "plt.xlabel('epoch')\n",
        "plt.show()"
      ],
      "execution_count": null,
      "outputs": [
        {
          "output_type": "display_data",
          "data": {
            "image/png": "[encoded data removed]",
            "text/plain": [
              "<Figure size 600x400 with 1 Axes>"
            ]
          },
          "metadata": {
            "tags": [],
            "needs_background": "light"
          }
        }
      ]
    },
    {
      "cell_type": "code",
      "metadata": {
        "colab": {
          "base_uri": "https://localhost:8080/",
          "height": 385
        },
        "id": "1gCkZXPZWWpb",
        "outputId": "462121c2-0a03-4886-8cb8-14a869dd4fbc"
      },
      "source": [
        "plt.figure(dpi=100)\n",
        "plt.plot(history.history['loss'])\n",
        "plt.ylabel('loss')\n",
        "plt.xlabel('epoch')\n",
        "plt.show()"
      ],
      "execution_count": null,
      "outputs": [
        {
          "output_type": "display_data",
          "data": {
            "image/png": "[encoded data removed]",
            "text/plain": [
              "<Figure size 600x400 with 1 Axes>"
            ]
          },
          "metadata": {
            "tags": [],
            "needs_background": "light"
          }
        }
      ]
    },
    {
      "cell_type": "code",
      "metadata": {
        "colab": {
          "base_uri": "https://localhost:8080/"
        },
        "id": "UsAYJrJF4SrN",
        "outputId": "306c6dcc-6945-400f-ffb4-454ba7a36c96"
      },
      "source": [
        "loss, acc = model1.evaluate(X_test,y_test)"
      ],
      "execution_count": null,
      "outputs": [
        {
          "output_type": "stream",
          "text": [
            "12/12 [==============================] - 0s 1ms/step - loss: 0.6015 - accuracy: 0.6827\n"
          ],
          "name": "stdout"
        }
      ]
    },
    {
      "cell_type": "code",
      "metadata": {
        "id": "xt3gwP6rQLxD"
      },
      "source": [
        "predictions = model1.predict(x=X_test, verbose=0)\n",
        "\n",
        "roundedPredictions = np.argmax(predictions, axis=1)\n",
        "rounded_labels = np.argmax(y_test, axis=1)\n",
        "\n",
        "cm = confusion_matrix(y_true = rounded_labels, y_pred = roundedPredictions)"
      ],
      "execution_count": null,
      "outputs": []
    },
    {
      "cell_type": "code",
      "metadata": {
        "id": "NHl9ALNfjtqa",
        "colab": {
          "base_uri": "https://localhost:8080/"
        },
        "outputId": "18087856-3e34-4cc7-ff44-d80dc960b8b1"
      },
      "source": [
        "cm"
      ],
      "execution_count": null,
      "outputs": [
        {
          "output_type": "execute_result",
          "data": {
            "text/plain": [
              "array([[158,  38],\n",
              "       [ 81,  98]])"
            ]
          },
          "metadata": {
            "tags": []
          },
          "execution_count": 230
        }
      ]
    },
    {
      "cell_type": "code",
      "metadata": {
        "colab": {
          "base_uri": "https://localhost:8080/"
        },
        "id": "j0hMBY1I_AA7",
        "outputId": "83830e4c-5682-43e3-8d59-3c88007faf48"
      },
      "source": [
        "sklearn.metrics.f1_score(rounded_labels, roundedPredictions)"
      ],
      "execution_count": null,
      "outputs": [
        {
          "output_type": "execute_result",
          "data": {
            "text/plain": [
              "0.6222222222222221"
            ]
          },
          "metadata": {
            "tags": []
          },
          "execution_count": 231
        }
      ]
    },
    {
      "cell_type": "code",
      "metadata": {
        "colab": {
          "base_uri": "https://localhost:8080/",
          "height": 460
        },
        "id": "lniqz8wA-DCN",
        "outputId": "573c43df-a416-4b5f-ea4d-3f2c93c3a4ed"
      },
      "source": [
        "plot_confusion_matrix(cm=cm, classes=['nie para', 'para'])"
      ],
      "execution_count": null,
      "outputs": [
        {
          "output_type": "stream",
          "text": [
            "[[158  38]\n",
            " [ 81  98]]\n"
          ],
          "name": "stdout"
        },
        {
          "output_type": "display_data",
          "data": {
            "image/png": "[encoded data removed]",
            "text/plain": [
              "<Figure size 600x400 with 1 Axes>"
            ]
          },
          "metadata": {
            "tags": [],
            "needs_background": "light"
          }
        }
      ]
    },
    {
      "cell_type": "markdown",
      "metadata": {
        "id": "MQ6vxz8b9zYa"
      },
      "source": [
        "using SIM similarity measure"
      ]
    },
    {
      "cell_type": "code",
      "metadata": {
        "id": "duwXy2BL9M8z"
      },
      "source": [
        "X_train, X_test, y_train, y_test = create_train_test(all_pairssimlistSIMtable)"
      ],
      "execution_count": null,
      "outputs": []
    },
    {
      "cell_type": "code",
      "metadata": {
        "id": "G0VZ9hpC9QzT",
        "colab": {
          "base_uri": "https://localhost:8080/"
        },
        "outputId": "4f411005-6171-47ba-c619-46d11a250fee"
      },
      "source": [
        "model2 = tf.keras.Sequential([\n",
        "    Dense(units=3, input_dim= 1, activation='relu'),\n",
        "    Dense(units=3, activation='relu'),\n",
        "    Dense(units=3, activation='relu'),\n",
        "    Dense(units=2, activation='softmax')\n",
        "  ])\n",
        "model2.compile(optimizer=Adam(learning_rate=0.01), loss='categorical_crossentropy', metrics=['accuracy'])\n",
        "history = model2.fit(x=X_train, y=y_train,shuffle=True, epochs=200, verbose=2)"
      ],
      "execution_count": null,
      "outputs": [
        {
          "output_type": "stream",
          "text": [
            "Epoch 1/200\n",
            "24/24 - 0s - loss: 0.6908 - accuracy: 0.5007\n",
            "Epoch 2/200\n",
            "24/24 - 0s - loss: 0.6812 - accuracy: 0.5810\n",
            "Epoch 3/200\n",
            "24/24 - 0s - loss: 0.6687 - accuracy: 0.6166\n",
            "Epoch 4/200\n",
            "24/24 - 0s - loss: 0.6527 - accuracy: 0.6614\n",
            "Epoch 5/200\n",
            "24/24 - 0s - loss: 0.6134 - accuracy: 0.7286\n",
            "Epoch 6/200\n",
            "24/24 - 0s - loss: 0.5768 - accuracy: 0.7233\n",
            "Epoch 7/200\n",
            "24/24 - 0s - loss: 0.5559 - accuracy: 0.7286\n",
            "Epoch 8/200\n",
            "24/24 - 0s - loss: 0.5494 - accuracy: 0.7352\n",
            "Epoch 9/200\n",
            "24/24 - 0s - loss: 0.5461 - accuracy: 0.7286\n",
            "Epoch 10/200\n",
            "24/24 - 0s - loss: 0.5417 - accuracy: 0.7365\n",
            "Epoch 11/200\n",
            "24/24 - 0s - loss: 0.5399 - accuracy: 0.7260\n",
            "Epoch 12/200\n",
            "24/24 - 0s - loss: 0.5427 - accuracy: 0.7391\n",
            "Epoch 13/200\n",
            "24/24 - 0s - loss: 0.5561 - accuracy: 0.7233\n",
            "Epoch 14/200\n",
            "24/24 - 0s - loss: 0.5637 - accuracy: 0.7260\n",
            "Epoch 15/200\n",
            "24/24 - 0s - loss: 0.5451 - accuracy: 0.7312\n",
            "Epoch 16/200\n",
            "24/24 - 0s - loss: 0.5407 - accuracy: 0.7312\n",
            "Epoch 17/200\n",
            "24/24 - 0s - loss: 0.5382 - accuracy: 0.7497\n",
            "Epoch 18/200\n",
            "24/24 - 0s - loss: 0.5672 - accuracy: 0.7167\n",
            "Epoch 19/200\n",
            "24/24 - 0s - loss: 0.5487 - accuracy: 0.7325\n",
            "Epoch 20/200\n",
            "24/24 - 0s - loss: 0.5412 - accuracy: 0.7325\n",
            "Epoch 21/200\n",
            "24/24 - 0s - loss: 0.5396 - accuracy: 0.7194\n",
            "Epoch 22/200\n",
            "24/24 - 0s - loss: 0.5470 - accuracy: 0.7273\n",
            "Epoch 23/200\n",
            "24/24 - 0s - loss: 0.5409 - accuracy: 0.7312\n",
            "Epoch 24/200\n",
            "24/24 - 0s - loss: 0.5427 - accuracy: 0.7286\n",
            "Epoch 25/200\n",
            "24/24 - 0s - loss: 0.5638 - accuracy: 0.7233\n",
            "Epoch 26/200\n",
            "24/24 - 0s - loss: 0.5613 - accuracy: 0.7273\n",
            "Epoch 27/200\n",
            "24/24 - 0s - loss: 0.5463 - accuracy: 0.7273\n",
            "Epoch 28/200\n",
            "24/24 - 0s - loss: 0.5461 - accuracy: 0.7299\n",
            "Epoch 29/200\n",
            "24/24 - 0s - loss: 0.5440 - accuracy: 0.7286\n",
            "Epoch 30/200\n",
            "24/24 - 0s - loss: 0.5453 - accuracy: 0.7352\n",
            "Epoch 31/200\n",
            "24/24 - 0s - loss: 0.5410 - accuracy: 0.7339\n",
            "Epoch 32/200\n",
            "24/24 - 0s - loss: 0.5435 - accuracy: 0.7299\n",
            "Epoch 33/200\n",
            "24/24 - 0s - loss: 0.5467 - accuracy: 0.7339\n",
            "Epoch 34/200\n",
            "24/24 - 0s - loss: 0.5614 - accuracy: 0.7207\n",
            "Epoch 35/200\n",
            "24/24 - 0s - loss: 0.5450 - accuracy: 0.7207\n",
            "Epoch 36/200\n",
            "24/24 - 0s - loss: 0.5439 - accuracy: 0.7325\n",
            "Epoch 37/200\n",
            "24/24 - 0s - loss: 0.5417 - accuracy: 0.7325\n",
            "Epoch 38/200\n",
            "24/24 - 0s - loss: 0.5560 - accuracy: 0.7246\n",
            "Epoch 39/200\n",
            "24/24 - 0s - loss: 0.5600 - accuracy: 0.7207\n",
            "Epoch 40/200\n",
            "24/24 - 0s - loss: 0.5472 - accuracy: 0.7312\n",
            "Epoch 41/200\n",
            "24/24 - 0s - loss: 0.5433 - accuracy: 0.7312\n",
            "Epoch 42/200\n",
            "24/24 - 0s - loss: 0.5455 - accuracy: 0.7233\n",
            "Epoch 43/200\n",
            "24/24 - 0s - loss: 0.5413 - accuracy: 0.7325\n",
            "Epoch 44/200\n",
            "24/24 - 0s - loss: 0.5463 - accuracy: 0.7325\n",
            "Epoch 45/200\n",
            "24/24 - 0s - loss: 0.5459 - accuracy: 0.7339\n",
            "Epoch 46/200\n",
            "24/24 - 0s - loss: 0.5389 - accuracy: 0.7273\n",
            "Epoch 47/200\n",
            "24/24 - 0s - loss: 0.5494 - accuracy: 0.7049\n",
            "Epoch 48/200\n",
            "24/24 - 0s - loss: 0.5476 - accuracy: 0.7220\n",
            "Epoch 49/200\n",
            "24/24 - 0s - loss: 0.5478 - accuracy: 0.7325\n",
            "Epoch 50/200\n",
            "24/24 - 0s - loss: 0.5399 - accuracy: 0.7431\n",
            "Epoch 51/200\n",
            "24/24 - 0s - loss: 0.5461 - accuracy: 0.7299\n",
            "Epoch 52/200\n",
            "24/24 - 0s - loss: 0.5431 - accuracy: 0.7325\n",
            "Epoch 53/200\n",
            "24/24 - 0s - loss: 0.5441 - accuracy: 0.7325\n",
            "Epoch 54/200\n",
            "24/24 - 0s - loss: 0.5386 - accuracy: 0.7352\n",
            "Epoch 55/200\n",
            "24/24 - 0s - loss: 0.5461 - accuracy: 0.7220\n",
            "Epoch 56/200\n",
            "24/24 - 0s - loss: 0.5447 - accuracy: 0.7312\n",
            "Epoch 57/200\n",
            "24/24 - 0s - loss: 0.5725 - accuracy: 0.7167\n",
            "Epoch 58/200\n",
            "24/24 - 0s - loss: 0.5503 - accuracy: 0.7339\n",
            "Epoch 59/200\n",
            "24/24 - 0s - loss: 0.5409 - accuracy: 0.7325\n",
            "Epoch 60/200\n",
            "24/24 - 0s - loss: 0.5434 - accuracy: 0.7260\n",
            "Epoch 61/200\n",
            "24/24 - 0s - loss: 0.5516 - accuracy: 0.7286\n",
            "Epoch 62/200\n",
            "24/24 - 0s - loss: 0.5412 - accuracy: 0.7339\n",
            "Epoch 63/200\n",
            "24/24 - 0s - loss: 0.5488 - accuracy: 0.7246\n",
            "Epoch 64/200\n",
            "24/24 - 0s - loss: 0.5424 - accuracy: 0.7339\n",
            "Epoch 65/200\n",
            "24/24 - 0s - loss: 0.5431 - accuracy: 0.7325\n",
            "Epoch 66/200\n",
            "24/24 - 0s - loss: 0.5403 - accuracy: 0.7299\n",
            "Epoch 67/200\n",
            "24/24 - 0s - loss: 0.5412 - accuracy: 0.7365\n",
            "Epoch 68/200\n",
            "24/24 - 0s - loss: 0.5425 - accuracy: 0.7325\n",
            "Epoch 69/200\n",
            "24/24 - 0s - loss: 0.5572 - accuracy: 0.7365\n",
            "Epoch 70/200\n",
            "24/24 - 0s - loss: 0.5420 - accuracy: 0.7286\n",
            "Epoch 71/200\n",
            "24/24 - 0s - loss: 0.5434 - accuracy: 0.7352\n",
            "Epoch 72/200\n",
            "24/24 - 0s - loss: 0.5514 - accuracy: 0.7233\n",
            "Epoch 73/200\n",
            "24/24 - 0s - loss: 0.5441 - accuracy: 0.7299\n",
            "Epoch 74/200\n",
            "24/24 - 0s - loss: 0.5410 - accuracy: 0.7260\n",
            "Epoch 75/200\n",
            "24/24 - 0s - loss: 0.5433 - accuracy: 0.7339\n",
            "Epoch 76/200\n",
            "24/24 - 0s - loss: 0.5425 - accuracy: 0.7246\n",
            "Epoch 77/200\n",
            "24/24 - 0s - loss: 0.5401 - accuracy: 0.7365\n",
            "Epoch 78/200\n",
            "24/24 - 0s - loss: 0.5440 - accuracy: 0.7181\n",
            "Epoch 79/200\n",
            "24/24 - 0s - loss: 0.5488 - accuracy: 0.7246\n",
            "Epoch 80/200\n",
            "24/24 - 0s - loss: 0.5485 - accuracy: 0.7246\n",
            "Epoch 81/200\n",
            "24/24 - 0s - loss: 0.5387 - accuracy: 0.7339\n",
            "Epoch 82/200\n",
            "24/24 - 0s - loss: 0.5391 - accuracy: 0.7299\n",
            "Epoch 83/200\n",
            "24/24 - 0s - loss: 0.5425 - accuracy: 0.7233\n",
            "Epoch 84/200\n",
            "24/24 - 0s - loss: 0.5507 - accuracy: 0.7246\n",
            "Epoch 85/200\n",
            "24/24 - 0s - loss: 0.5405 - accuracy: 0.7273\n",
            "Epoch 86/200\n",
            "24/24 - 0s - loss: 0.5380 - accuracy: 0.7365\n",
            "Epoch 87/200\n",
            "24/24 - 0s - loss: 0.5452 - accuracy: 0.7260\n",
            "Epoch 88/200\n",
            "24/24 - 0s - loss: 0.5396 - accuracy: 0.7260\n",
            "Epoch 89/200\n",
            "24/24 - 0s - loss: 0.5464 - accuracy: 0.7220\n",
            "Epoch 90/200\n",
            "24/24 - 0s - loss: 0.5506 - accuracy: 0.7352\n",
            "Epoch 91/200\n",
            "24/24 - 0s - loss: 0.5396 - accuracy: 0.7365\n",
            "Epoch 92/200\n",
            "24/24 - 0s - loss: 0.5434 - accuracy: 0.7299\n",
            "Epoch 93/200\n",
            "24/24 - 0s - loss: 0.5471 - accuracy: 0.7365\n",
            "Epoch 94/200\n",
            "24/24 - 0s - loss: 0.5439 - accuracy: 0.7325\n",
            "Epoch 95/200\n",
            "24/24 - 0s - loss: 0.5466 - accuracy: 0.7141\n",
            "Epoch 96/200\n",
            "24/24 - 0s - loss: 0.5467 - accuracy: 0.7273\n",
            "Epoch 97/200\n",
            "24/24 - 0s - loss: 0.5420 - accuracy: 0.7273\n",
            "Epoch 98/200\n",
            "24/24 - 0s - loss: 0.5448 - accuracy: 0.7325\n",
            "Epoch 99/200\n",
            "24/24 - 0s - loss: 0.5489 - accuracy: 0.7273\n",
            "Epoch 100/200\n",
            "24/24 - 0s - loss: 0.5489 - accuracy: 0.7260\n",
            "Epoch 101/200\n",
            "24/24 - 0s - loss: 0.5462 - accuracy: 0.7286\n",
            "Epoch 102/200\n",
            "24/24 - 0s - loss: 0.5426 - accuracy: 0.7299\n",
            "Epoch 103/200\n",
            "24/24 - 0s - loss: 0.5572 - accuracy: 0.7260\n",
            "Epoch 104/200\n",
            "24/24 - 0s - loss: 0.5466 - accuracy: 0.7299\n",
            "Epoch 105/200\n",
            "24/24 - 0s - loss: 0.5429 - accuracy: 0.7325\n",
            "Epoch 106/200\n",
            "24/24 - 0s - loss: 0.5441 - accuracy: 0.7260\n",
            "Epoch 107/200\n",
            "24/24 - 0s - loss: 0.5545 - accuracy: 0.7220\n",
            "Epoch 108/200\n",
            "24/24 - 0s - loss: 0.5508 - accuracy: 0.7260\n",
            "Epoch 109/200\n",
            "24/24 - 0s - loss: 0.5567 - accuracy: 0.7141\n",
            "Epoch 110/200\n",
            "24/24 - 0s - loss: 0.5418 - accuracy: 0.7312\n",
            "Epoch 111/200\n",
            "24/24 - 0s - loss: 0.5473 - accuracy: 0.7286\n",
            "Epoch 112/200\n",
            "24/24 - 0s - loss: 0.5446 - accuracy: 0.7260\n",
            "Epoch 113/200\n",
            "24/24 - 0s - loss: 0.5438 - accuracy: 0.7299\n",
            "Epoch 114/200\n",
            "24/24 - 0s - loss: 0.5459 - accuracy: 0.7299\n",
            "Epoch 115/200\n",
            "24/24 - 0s - loss: 0.5467 - accuracy: 0.7246\n",
            "Epoch 116/200\n",
            "24/24 - 0s - loss: 0.5453 - accuracy: 0.7312\n",
            "Epoch 117/200\n",
            "24/24 - 0s - loss: 0.5391 - accuracy: 0.7378\n",
            "Epoch 118/200\n",
            "24/24 - 0s - loss: 0.5466 - accuracy: 0.7233\n",
            "Epoch 119/200\n",
            "24/24 - 0s - loss: 0.5453 - accuracy: 0.7325\n",
            "Epoch 120/200\n",
            "24/24 - 0s - loss: 0.5417 - accuracy: 0.7404\n",
            "Epoch 121/200\n",
            "24/24 - 0s - loss: 0.5394 - accuracy: 0.7325\n",
            "Epoch 122/200\n",
            "24/24 - 0s - loss: 0.5460 - accuracy: 0.7273\n",
            "Epoch 123/200\n",
            "24/24 - 0s - loss: 0.5403 - accuracy: 0.7299\n",
            "Epoch 124/200\n",
            "24/24 - 0s - loss: 0.5385 - accuracy: 0.7365\n",
            "Epoch 125/200\n",
            "24/24 - 0s - loss: 0.5378 - accuracy: 0.7286\n",
            "Epoch 126/200\n",
            "24/24 - 0s - loss: 0.5430 - accuracy: 0.7339\n",
            "Epoch 127/200\n",
            "24/24 - 0s - loss: 0.5402 - accuracy: 0.7339\n",
            "Epoch 128/200\n",
            "24/24 - 0s - loss: 0.5485 - accuracy: 0.7299\n",
            "Epoch 129/200\n",
            "24/24 - 0s - loss: 0.5746 - accuracy: 0.6957\n",
            "Epoch 130/200\n",
            "24/24 - 0s - loss: 0.5687 - accuracy: 0.7312\n",
            "Epoch 131/200\n",
            "24/24 - 0s - loss: 0.5656 - accuracy: 0.7260\n",
            "Epoch 132/200\n",
            "24/24 - 0s - loss: 0.5487 - accuracy: 0.7273\n",
            "Epoch 133/200\n",
            "24/24 - 0s - loss: 0.5387 - accuracy: 0.7299\n",
            "Epoch 134/200\n",
            "24/24 - 0s - loss: 0.5403 - accuracy: 0.7352\n",
            "Epoch 135/200\n",
            "24/24 - 0s - loss: 0.5404 - accuracy: 0.7273\n",
            "Epoch 136/200\n",
            "24/24 - 0s - loss: 0.5446 - accuracy: 0.7391\n",
            "Epoch 137/200\n",
            "24/24 - 0s - loss: 0.5380 - accuracy: 0.7312\n",
            "Epoch 138/200\n",
            "24/24 - 0s - loss: 0.5405 - accuracy: 0.7299\n",
            "Epoch 139/200\n",
            "24/24 - 0s - loss: 0.5418 - accuracy: 0.7404\n",
            "Epoch 140/200\n",
            "24/24 - 0s - loss: 0.5378 - accuracy: 0.7312\n",
            "Epoch 141/200\n",
            "24/24 - 0s - loss: 0.5458 - accuracy: 0.7286\n",
            "Epoch 142/200\n",
            "24/24 - 0s - loss: 0.5451 - accuracy: 0.7339\n",
            "Epoch 143/200\n",
            "24/24 - 0s - loss: 0.5475 - accuracy: 0.7246\n",
            "Epoch 144/200\n",
            "24/24 - 0s - loss: 0.5425 - accuracy: 0.7233\n",
            "Epoch 145/200\n",
            "24/24 - 0s - loss: 0.5444 - accuracy: 0.7286\n",
            "Epoch 146/200\n",
            "24/24 - 0s - loss: 0.5393 - accuracy: 0.7365\n",
            "Epoch 147/200\n",
            "24/24 - 0s - loss: 0.5446 - accuracy: 0.7299\n",
            "Epoch 148/200\n",
            "24/24 - 0s - loss: 0.5471 - accuracy: 0.7260\n",
            "Epoch 149/200\n",
            "24/24 - 0s - loss: 0.5428 - accuracy: 0.7352\n",
            "Epoch 150/200\n",
            "24/24 - 0s - loss: 0.5464 - accuracy: 0.7181\n",
            "Epoch 151/200\n",
            "24/24 - 0s - loss: 0.5453 - accuracy: 0.7325\n",
            "Epoch 152/200\n",
            "24/24 - 0s - loss: 0.5429 - accuracy: 0.7365\n",
            "Epoch 153/200\n",
            "24/24 - 0s - loss: 0.5415 - accuracy: 0.7246\n",
            "Epoch 154/200\n",
            "24/24 - 0s - loss: 0.5383 - accuracy: 0.7352\n",
            "Epoch 155/200\n",
            "24/24 - 0s - loss: 0.5386 - accuracy: 0.7365\n",
            "Epoch 156/200\n",
            "24/24 - 0s - loss: 0.5455 - accuracy: 0.7246\n",
            "Epoch 157/200\n",
            "24/24 - 0s - loss: 0.5397 - accuracy: 0.7339\n",
            "Epoch 158/200\n",
            "24/24 - 0s - loss: 0.5405 - accuracy: 0.7352\n",
            "Epoch 159/200\n",
            "24/24 - 0s - loss: 0.5392 - accuracy: 0.7325\n",
            "Epoch 160/200\n",
            "24/24 - 0s - loss: 0.5375 - accuracy: 0.7273\n",
            "Epoch 161/200\n",
            "24/24 - 0s - loss: 0.5405 - accuracy: 0.7286\n",
            "Epoch 162/200\n",
            "24/24 - 0s - loss: 0.5464 - accuracy: 0.7299\n",
            "Epoch 163/200\n",
            "24/24 - 0s - loss: 0.5404 - accuracy: 0.7339\n",
            "Epoch 164/200\n",
            "24/24 - 0s - loss: 0.5495 - accuracy: 0.7260\n",
            "Epoch 165/200\n",
            "24/24 - 0s - loss: 0.5406 - accuracy: 0.7365\n",
            "Epoch 166/200\n",
            "24/24 - 0s - loss: 0.5495 - accuracy: 0.7207\n",
            "Epoch 167/200\n",
            "24/24 - 0s - loss: 0.5423 - accuracy: 0.7431\n",
            "Epoch 168/200\n",
            "24/24 - 0s - loss: 0.5436 - accuracy: 0.7352\n",
            "Epoch 169/200\n",
            "24/24 - 0s - loss: 0.5415 - accuracy: 0.7246\n",
            "Epoch 170/200\n",
            "24/24 - 0s - loss: 0.5392 - accuracy: 0.7352\n",
            "Epoch 171/200\n",
            "24/24 - 0s - loss: 0.5415 - accuracy: 0.7194\n",
            "Epoch 172/200\n",
            "24/24 - 0s - loss: 0.5437 - accuracy: 0.7260\n",
            "Epoch 173/200\n",
            "24/24 - 0s - loss: 0.5448 - accuracy: 0.7273\n",
            "Epoch 174/200\n",
            "24/24 - 0s - loss: 0.5402 - accuracy: 0.7339\n",
            "Epoch 175/200\n",
            "24/24 - 0s - loss: 0.5465 - accuracy: 0.7299\n",
            "Epoch 176/200\n",
            "24/24 - 0s - loss: 0.5439 - accuracy: 0.7273\n",
            "Epoch 177/200\n",
            "24/24 - 0s - loss: 0.5497 - accuracy: 0.7286\n",
            "Epoch 178/200\n",
            "24/24 - 0s - loss: 0.5391 - accuracy: 0.7418\n",
            "Epoch 179/200\n",
            "24/24 - 0s - loss: 0.5467 - accuracy: 0.7339\n",
            "Epoch 180/200\n",
            "24/24 - 0s - loss: 0.5383 - accuracy: 0.7418\n",
            "Epoch 181/200\n",
            "24/24 - 0s - loss: 0.5539 - accuracy: 0.7260\n",
            "Epoch 182/200\n",
            "24/24 - 0s - loss: 0.5460 - accuracy: 0.7101\n",
            "Epoch 183/200\n",
            "24/24 - 0s - loss: 0.5453 - accuracy: 0.7286\n",
            "Epoch 184/200\n",
            "24/24 - 0s - loss: 0.5397 - accuracy: 0.7339\n",
            "Epoch 185/200\n",
            "24/24 - 0s - loss: 0.5408 - accuracy: 0.7286\n",
            "Epoch 186/200\n",
            "24/24 - 0s - loss: 0.5385 - accuracy: 0.7339\n",
            "Epoch 187/200\n",
            "24/24 - 0s - loss: 0.5378 - accuracy: 0.7339\n",
            "Epoch 188/200\n",
            "24/24 - 0s - loss: 0.5413 - accuracy: 0.7286\n",
            "Epoch 189/200\n",
            "24/24 - 0s - loss: 0.5449 - accuracy: 0.7273\n",
            "Epoch 190/200\n",
            "24/24 - 0s - loss: 0.5424 - accuracy: 0.7233\n",
            "Epoch 191/200\n",
            "24/24 - 0s - loss: 0.5449 - accuracy: 0.7260\n",
            "Epoch 192/200\n",
            "24/24 - 0s - loss: 0.5376 - accuracy: 0.7339\n",
            "Epoch 193/200\n",
            "24/24 - 0s - loss: 0.5414 - accuracy: 0.7286\n",
            "Epoch 194/200\n",
            "24/24 - 0s - loss: 0.5394 - accuracy: 0.7260\n",
            "Epoch 195/200\n",
            "24/24 - 0s - loss: 0.5420 - accuracy: 0.7299\n",
            "Epoch 196/200\n",
            "24/24 - 0s - loss: 0.5414 - accuracy: 0.7299\n",
            "Epoch 197/200\n",
            "24/24 - 0s - loss: 0.5490 - accuracy: 0.7260\n",
            "Epoch 198/200\n",
            "24/24 - 0s - loss: 0.5455 - accuracy: 0.7286\n",
            "Epoch 199/200\n",
            "24/24 - 0s - loss: 0.5416 - accuracy: 0.7365\n",
            "Epoch 200/200\n",
            "24/24 - 0s - loss: 0.5428 - accuracy: 0.7299\n"
          ],
          "name": "stdout"
        }
      ]
    },
    {
      "cell_type": "code",
      "metadata": {
        "colab": {
          "base_uri": "https://localhost:8080/"
        },
        "id": "pZvK_RpP3iFa",
        "outputId": "7d5d0d47-3152-45ab-9051-4172fed5ab9f"
      },
      "source": [
        "model2.evaluate(X_test,y_test)"
      ],
      "execution_count": null,
      "outputs": [
        {
          "output_type": "stream",
          "text": [
            "12/12 [==============================] - 0s 1ms/step - loss: nan - accuracy: 0.6907\n"
          ],
          "name": "stdout"
        },
        {
          "output_type": "execute_result",
          "data": {
            "text/plain": [
              "[nan, 0.690666675567627]"
            ]
          },
          "metadata": {
            "tags": []
          },
          "execution_count": 247
        }
      ]
    },
    {
      "cell_type": "code",
      "metadata": {
        "colab": {
          "base_uri": "https://localhost:8080/",
          "height": 382
        },
        "id": "W8wg6rlI9tvd",
        "outputId": "5da28ad1-38ed-4802-e4bd-d5b11c0bfba1"
      },
      "source": [
        "plt.figure(dpi=100)\n",
        "plt.plot(history.history['accuracy'])\n",
        "plt.ylabel('accuracy')\n",
        "plt.xlabel('epoch')\n",
        "plt.show()"
      ],
      "execution_count": null,
      "outputs": [
        {
          "output_type": "display_data",
          "data": {
            "image/png": "[encoded data removed]",
            "text/plain": [
              "<Figure size 600x400 with 1 Axes>"
            ]
          },
          "metadata": {
            "tags": [],
            "needs_background": "light"
          }
        }
      ]
    },
    {
      "cell_type": "code",
      "metadata": {
        "colab": {
          "base_uri": "https://localhost:8080/",
          "height": 382
        },
        "id": "VLnARfhv91-w",
        "outputId": "648adf25-2b21-476b-f581-5d6353be94c4"
      },
      "source": [
        "plt.figure(dpi=100)\n",
        "plt.plot(history.history['loss'])\n",
        "plt.ylabel('loss')\n",
        "plt.xlabel('epoch')\n",
        "plt.show()"
      ],
      "execution_count": null,
      "outputs": [
        {
          "output_type": "display_data",
          "data": {
            "image/png": "[encoded data removed]",
            "text/plain": [
              "<Figure size 600x400 with 1 Axes>"
            ]
          },
          "metadata": {
            "tags": [],
            "needs_background": "light"
          }
        }
      ]
    },
    {
      "cell_type": "code",
      "metadata": {
        "id": "O2Yr_Vg0-KUO"
      },
      "source": [
        "predictions = model2.predict(x=X_test, verbose=0)\n",
        "\n",
        "roundedPredictions = np.argmax(predictions, axis=1)\n",
        "rounded_labels=np.argmax(y_test, axis=1)\n",
        "\n",
        "cm = confusion_matrix(y_true = rounded_labels, y_pred = roundedPredictions)"
      ],
      "execution_count": null,
      "outputs": []
    },
    {
      "cell_type": "code",
      "metadata": {
        "colab": {
          "base_uri": "https://localhost:8080/"
        },
        "id": "epWEIQcR-01Y",
        "outputId": "e58436f9-e637-4b81-f52d-026a4747008e"
      },
      "source": [
        "sklearn.metrics.f1_score(rounded_labels, roundedPredictions)"
      ],
      "execution_count": null,
      "outputs": [
        {
          "output_type": "execute_result",
          "data": {
            "text/plain": [
              "0.6914893617021278"
            ]
          },
          "metadata": {
            "tags": []
          },
          "execution_count": 251
        }
      ]
    },
    {
      "cell_type": "code",
      "metadata": {
        "colab": {
          "base_uri": "https://localhost:8080/",
          "height": 460
        },
        "id": "kGcHKhH4-E1G",
        "outputId": "5363bb2c-a09a-48e8-e61d-2a84f018464c"
      },
      "source": [
        "plot_confusion_matrix(cm=cm, classes=cm_plot_labels)"
      ],
      "execution_count": null,
      "outputs": [
        {
          "output_type": "stream",
          "text": [
            "[[129  54]\n",
            " [ 62 130]]\n"
          ],
          "name": "stdout"
        },
        {
          "output_type": "display_data",
          "data": {
            "image/png": "[encoded data removed]",
            "text/plain": [
              "<Figure size 600x400 with 1 Axes>"
            ]
          },
          "metadata": {
            "tags": [],
            "needs_background": "light"
          }
        }
      ]
    },
    {
      "cell_type": "markdown",
      "metadata": {
        "id": "Rs4huBoBmfjU"
      },
      "source": [
        "#Code junkyard"
      ]
    },
    {
      "cell_type": "code",
      "metadata": {
        "id": "csL3OL0RhdA_"
      },
      "source": [
        "# def save_metricsscores(mode, metrics_avg, f1acc_matrix, cm, f1, history):\n",
        "#   if mode == \"avg\":\n",
        "#         metrics_avg[simcos][\"acc\"] += history.history['accuracy'][-1]\n",
        "#         metrics_avg[simcos][\"loss\"] += history.history['loss'][-1]\n",
        "#         metrics_avg[simcos][\"f1\"] += f1\n",
        "#         metrics_avg[simcos]['cm'] += cm\n",
        "  \n",
        "#    if mode == \"max\":\n",
        "#         metrics_max[simcos].append([history.history['accuracy'][-1], history.history['loss'][-1], f1, cm, learning_rates[j]])\n",
        "#         f1acc_matrix[0,j,i] = history.history['accuracy'][-1]\n",
        "#         f1acc_matrix[1,j,i] = f1\n",
        "    \n",
        "#   return metrics_max, f1acc_matrix"
      ],
      "execution_count": null,
      "outputs": []
    },
    {
      "cell_type": "code",
      "metadata": {
        "id": "Z0COy1sS60yS"
      },
      "source": [
        "# for simcos in [\"cos\",\"sim\"]:\n",
        "#   for metr in [\"acc\",\"f1\"]:\n",
        "#     print(f\"{simcos.upper()} similarity measure\")\n",
        "#     print(\"Accuracy:\",best_models[metr][simcos][0])\n",
        "#     print(\"Loss:\",best_models[metr][simcos][1])\n",
        "#     print(\"F1 score:\",best_models[metr][simcos][2])\n",
        "#     print(\"Best learning rate:\",best_models[metr][simcos][4])\n",
        "#     plot_confusion_matrix(cm= best_models[metr][simcos][3] , classes=cm_plot_labels, title = f\"{simcos} {metr}\")\n",
        "#     print(\"\")"
      ],
      "execution_count": null,
      "outputs": []
    },
    {
      "cell_type": "code",
      "metadata": {
        "id": "3dMHAOfsmcik"
      },
      "source": [
        "\n",
        "\n",
        "      # model = tf.keras.Sequential([\n",
        "      #   Dense(units=3, input_dim= 1, activation='relu'),\n",
        "      #   Dense(units=3, activation='relu'),\n",
        "      #   Dense(units=3, activation='relu'),\n",
        "      #   Dense(units=2, activation='softmax')\n",
        "      # ])\n",
        "      # model.compile(optimizer=Adam(learning_rate= learning_rates[j]), loss='categorical_crossentropy', metrics=['accuracy'])\n",
        "      # #fit model\n",
        "      # history = model.fit(x=X_train, y=y_train,shuffle=True, epochs=epochs, verbose=0)\n",
        "\n",
        "\n",
        "\n",
        "      #predict and create a confusion matrix\n",
        "      # predictions = model.predict(x=X_test, verbose=0)\n",
        "      # defEncod_pred = np.argmax(predictions, axis=1)\n",
        "      # defEncod_labels = np.argmax(y_test, axis=1)\n",
        "      # cm = confusion_matrix(y_true = defEncod_labels, y_pred = defEncod_pred)\n",
        "\n",
        "\n",
        "\n",
        "      # print(\"acc\")\n",
        "      # print(history.history['accuracy'][-1])\n",
        "      # print(\"loss\")\n",
        "      # print(history.history['loss'][-1])\n",
        "      # print(\"f1\")\n",
        "      # print(sklearn.metrics.f1_score(defEncod_labels, defEncod_pred))\n"
      ],
      "execution_count": null,
      "outputs": []
    },
    {
      "cell_type": "code",
      "metadata": {
        "id": "oi87iK1smdIq"
      },
      "source": [
        "\n",
        "    # bestmodel_num = np.argmax(f1acc_matrix[0].reshape(-1, order='F'))\n",
        "    # best_models['acc'][simcos] = metrics_max[simcos][bestmodel_num]\n",
        "    # bestmodel_num = np.argmax(f1acc_matrix[1].reshape(-1, order='F'))\n",
        "    # best_models['f1'][simcos] = metrics_max[simcos][bestmodel_num]"
      ],
      "execution_count": null,
      "outputs": []
    }
  ]
}